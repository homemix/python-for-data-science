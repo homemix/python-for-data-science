{
 "cells": [
  {
   "cell_type": "markdown",
   "source": [
    "# Scikit-Learn Toy Datasets"
   ],
   "metadata": {
    "collapsed": false
   },
   "id": "4851d430b949ea"
  },
  {
   "cell_type": "code",
   "execution_count": 26,
   "outputs": [],
   "source": [
    "import pandas as pd\n",
    "import numpy as np"
   ],
   "metadata": {
    "collapsed": false,
    "ExecuteTime": {
     "end_time": "2023-12-31T08:17:09.474063600Z",
     "start_time": "2023-12-31T08:17:09.469779300Z"
    }
   },
   "id": "8930e7302b80b471"
  },
  {
   "cell_type": "code",
   "execution_count": 1,
   "outputs": [],
   "source": [
    "from sklearn.datasets import load_iris\n",
    "iris = load_iris()"
   ],
   "metadata": {
    "collapsed": false,
    "ExecuteTime": {
     "end_time": "2023-12-31T07:36:00.820613800Z",
     "start_time": "2023-12-31T07:36:00.103749700Z"
    }
   },
   "id": "fe331677291ff112"
  },
  {
   "cell_type": "code",
   "execution_count": 3,
   "outputs": [
    {
     "data": {
      "text/plain": "'.. _iris_dataset:\\n\\nIris plants dataset\\n--------------------\\n\\n**Data Set Characteristics:**\\n\\n    :Number of Instances: 150 (50 in each of three classes)\\n    :Number of Attributes: 4 numeric, predictive attributes and the class\\n    :Attribute Information:\\n        - sepal length in cm\\n        - sepal width in cm\\n        - petal length in cm\\n        - petal width in cm\\n        - class:\\n                - Iris-Setosa\\n                - Iris-Versicolour\\n                - Iris-Virginica\\n                \\n    :Summary Statistics:\\n\\n    ============== ==== ==== ======= ===== ====================\\n                    Min  Max   Mean    SD   Class Correlation\\n    ============== ==== ==== ======= ===== ====================\\n    sepal length:   4.3  7.9   5.84   0.83    0.7826\\n    sepal width:    2.0  4.4   3.05   0.43   -0.4194\\n    petal length:   1.0  6.9   3.76   1.76    0.9490  (high!)\\n    petal width:    0.1  2.5   1.20   0.76    0.9565  (high!)\\n    ============== ==== ==== ======= ===== ====================\\n\\n    :Missing Attribute Values: None\\n    :Class Distribution: 33.3% for each of 3 classes.\\n    :Creator: R.A. Fisher\\n    :Donor: Michael Marshall (MARSHALL%PLU@io.arc.nasa.gov)\\n    :Date: July, 1988\\n\\nThe famous Iris database, first used by Sir R.A. Fisher. The dataset is taken\\nfrom Fisher\\'s paper. Note that it\\'s the same as in R, but not as in the UCI\\nMachine Learning Repository, which has two wrong data points.\\n\\nThis is perhaps the best known database to be found in the\\npattern recognition literature.  Fisher\\'s paper is a classic in the field and\\nis referenced frequently to this day.  (See Duda & Hart, for example.)  The\\ndata set contains 3 classes of 50 instances each, where each class refers to a\\ntype of iris plant.  One class is linearly separable from the other 2; the\\nlatter are NOT linearly separable from each other.\\n\\n|details-start|\\n**References**\\n|details-split|\\n\\n- Fisher, R.A. \"The use of multiple measurements in taxonomic problems\"\\n  Annual Eugenics, 7, Part II, 179-188 (1936); also in \"Contributions to\\n  Mathematical Statistics\" (John Wiley, NY, 1950).\\n- Duda, R.O., & Hart, P.E. (1973) Pattern Classification and Scene Analysis.\\n  (Q327.D83) John Wiley & Sons.  ISBN 0-471-22361-1.  See page 218.\\n- Dasarathy, B.V. (1980) \"Nosing Around the Neighborhood: A New System\\n  Structure and Classification Rule for Recognition in Partially Exposed\\n  Environments\".  IEEE Transactions on Pattern Analysis and Machine\\n  Intelligence, Vol. PAMI-2, No. 1, 67-71.\\n- Gates, G.W. (1972) \"The Reduced Nearest Neighbor Rule\".  IEEE Transactions\\n  on Information Theory, May 1972, 431-433.\\n- See also: 1988 MLC Proceedings, 54-64.  Cheeseman et al\"s AUTOCLASS II\\n  conceptual clustering system finds 3 classes in the data.\\n- Many, many more ...\\n\\n|details-end|'"
     },
     "execution_count": 3,
     "metadata": {},
     "output_type": "execute_result"
    }
   ],
   "source": [
    "# Get  general description of the data set.\n",
    "iris.DESCR"
   ],
   "metadata": {
    "collapsed": false,
    "ExecuteTime": {
     "end_time": "2023-12-31T07:36:51.800774300Z",
     "start_time": "2023-12-31T07:36:51.759577700Z"
    }
   },
   "id": "dd8820520898cb5c"
  },
  {
   "cell_type": "code",
   "execution_count": 10,
   "outputs": [
    {
     "data": {
      "text/plain": "(150, 4)"
     },
     "execution_count": 10,
     "metadata": {},
     "output_type": "execute_result"
    }
   ],
   "source": [
    "# get all the features\n",
    "iris.data.shape"
   ],
   "metadata": {
    "collapsed": false,
    "ExecuteTime": {
     "end_time": "2023-12-31T07:43:57.588937900Z",
     "start_time": "2023-12-31T07:43:57.575263200Z"
    }
   },
   "id": "19eb5ea5ee63af40"
  },
  {
   "cell_type": "code",
   "execution_count": 7,
   "outputs": [
    {
     "data": {
      "text/plain": "array([0, 0, 0, 0, 0, 0, 0, 0, 0, 0, 0, 0, 0, 0, 0, 0, 0, 0, 0, 0, 0, 0,\n       0, 0, 0, 0, 0, 0, 0, 0, 0, 0, 0, 0, 0, 0, 0, 0, 0, 0, 0, 0, 0, 0,\n       0, 0, 0, 0, 0, 0, 1, 1, 1, 1, 1, 1, 1, 1, 1, 1, 1, 1, 1, 1, 1, 1,\n       1, 1, 1, 1, 1, 1, 1, 1, 1, 1, 1, 1, 1, 1, 1, 1, 1, 1, 1, 1, 1, 1,\n       1, 1, 1, 1, 1, 1, 1, 1, 1, 1, 1, 1, 2, 2, 2, 2, 2, 2, 2, 2, 2, 2,\n       2, 2, 2, 2, 2, 2, 2, 2, 2, 2, 2, 2, 2, 2, 2, 2, 2, 2, 2, 2, 2, 2,\n       2, 2, 2, 2, 2, 2, 2, 2, 2, 2, 2, 2, 2, 2, 2, 2, 2, 2])"
     },
     "execution_count": 7,
     "metadata": {},
     "output_type": "execute_result"
    }
   ],
   "source": [
    "# get the target values\n",
    "iris.target"
   ],
   "metadata": {
    "collapsed": false,
    "ExecuteTime": {
     "end_time": "2023-12-31T07:41:00.877376300Z",
     "start_time": "2023-12-31T07:41:00.866083400Z"
    }
   },
   "id": "c0c2c9b45fa32080"
  },
  {
   "cell_type": "code",
   "execution_count": 8,
   "outputs": [
    {
     "data": {
      "text/plain": "array(['setosa', 'versicolor', 'virginica'], dtype='<U10')"
     },
     "execution_count": 8,
     "metadata": {},
     "output_type": "execute_result"
    }
   ],
   "source": [
    "# and the names of classes in the target\n",
    "iris.target_names"
   ],
   "metadata": {
    "collapsed": false,
    "ExecuteTime": {
     "end_time": "2023-12-31T07:41:45.880424700Z",
     "start_time": "2023-12-31T07:41:45.870082800Z"
    }
   },
   "id": "43195a1709a5ad1b"
  },
  {
   "cell_type": "code",
   "execution_count": 9,
   "outputs": [
    {
     "data": {
      "text/plain": "(150, 4)"
     },
     "execution_count": 9,
     "metadata": {},
     "output_type": "execute_result"
    }
   ],
   "source": [
    "# and the number of observations\n",
    "iris.data.shape"
   ],
   "metadata": {
    "collapsed": false,
    "ExecuteTime": {
     "end_time": "2023-12-31T07:43:44.685521700Z",
     "start_time": "2023-12-31T07:43:44.673876700Z"
    }
   },
   "id": "8bce56687a5c1fe1"
  },
  {
   "cell_type": "markdown",
   "source": [
    "## Other data sets - MLdata.org\n",
    "- We will download machine learning datasets from this repository"
   ],
   "metadata": {
    "collapsed": false
   },
   "id": "2bbd84745960c12b"
  },
  {
   "cell_type": "code",
   "execution_count": 25,
   "outputs": [
    {
     "data": {
      "text/plain": "{'data':       focal_depth  latitude  longitude\n 0              33    -52.26      28.30\n 1              36     45.53     150.93\n 2              57     41.85     142.78\n 3              67     29.19     141.15\n 4              30    -21.66     169.81\n ...           ...       ...        ...\n 2173           13     51.54    -173.11\n 2174           97    -10.16     161.01\n 2175          527     27.87     139.51\n 2176           51     36.43     140.98\n 2177           41     24.02     122.23\n \n [2178 rows x 3 columns],\n 'target': 0       6.7\n 1       5.8\n 2       5.8\n 3       6.2\n 4       6.0\n        ... \n 2173    5.8\n 2174    5.9\n 2175    5.8\n 2176    6.0\n 2177    5.8\n Name: richter, Length: 2178, dtype: float64,\n 'frame':       focal_depth  latitude  longitude  richter\n 0              33    -52.26      28.30      6.7\n 1              36     45.53     150.93      5.8\n 2              57     41.85     142.78      5.8\n 3              67     29.19     141.15      6.2\n 4              30    -21.66     169.81      6.0\n ...           ...       ...        ...      ...\n 2173           13     51.54    -173.11      5.8\n 2174           97    -10.16     161.01      5.9\n 2175          527     27.87     139.51      5.8\n 2176           51     36.43     140.98      6.0\n 2177           41     24.02     122.23      5.8\n \n [2178 rows x 4 columns],\n 'categories': None,\n 'feature_names': ['focal_depth', 'latitude', 'longitude'],\n 'target_names': ['richter'],\n 'DESCR': '**Author**:   \\n**Source**: Unknown -   \\n**Please cite**:   \\n\\nDataset from Smoothing Methods in Statistics \\n (ftp stat.cmu.edu/datasets)\\n\\n Simonoff, J.S. (1996). Smoothing Methods in Statistics. New York: Springer-Verlag.\\n\\nDownloaded from openml.org.',\n 'details': {'id': '209',\n  'name': 'quake',\n  'version': '1',\n  'description_version': '1',\n  'format': 'ARFF',\n  'upload_date': '2014-04-23T13:17:24',\n  'licence': 'Public',\n  'url': 'https://api.openml.org/data/v1/download/3646/quake.arff',\n  'parquet_url': 'http://openml1.win.tue.nl/dataset209/dataset_209.pq',\n  'file_id': '3646',\n  'default_target_attribute': 'richter',\n  'version_label': '1',\n  'tag': 'Statistics',\n  'visibility': 'public',\n  'minio_url': 'http://openml1.win.tue.nl/dataset209/dataset_209.pq',\n  'status': 'active',\n  'processing_date': '2020-11-20 19:18:15',\n  'md5_checksum': '7ede4fd775db9eae5586b2f55c6d98c6'},\n 'url': 'https://www.openml.org/d/209'}"
     },
     "execution_count": 25,
     "metadata": {},
     "output_type": "execute_result"
    }
   ],
   "source": [
    "# get the data direct without downloading\n",
    "from  sklearn.datasets import fetch_openml\n",
    "earthquakes = fetch_openml(name='quake', version=1,parser='auto')\n",
    "earthquakes"
   ],
   "metadata": {
    "collapsed": false,
    "ExecuteTime": {
     "end_time": "2023-12-31T08:11:52.946828900Z",
     "start_time": "2023-12-31T08:11:52.920911200Z"
    }
   },
   "id": "83312ee7a05d0f28"
  },
  {
   "cell_type": "markdown",
   "source": [
    "# Loading data directly from csv or text files."
   ],
   "metadata": {
    "collapsed": false
   },
   "id": "9b1be21a784d1a62"
  },
  {
   "cell_type": "code",
   "execution_count": 95,
   "outputs": [
    {
     "data": {
      "text/plain": "(506, 14)"
     },
     "execution_count": 95,
     "metadata": {},
     "output_type": "execute_result"
    }
   ],
   "source": [
    "# Load with numpy loadtxt or pandas read_csv\n",
    "## Load regression data\n",
    "housing = np.loadtxt('../../data/regression-datasets-housing.csv',delimiter=',')\n",
    "housing.shape"
   ],
   "metadata": {
    "collapsed": false,
    "ExecuteTime": {
     "end_time": "2023-12-31T09:09:04.773103300Z",
     "start_time": "2023-12-31T09:09:04.740211100Z"
    }
   },
   "id": "bf18fe841ecd34d9"
  },
  {
   "cell_type": "code",
   "execution_count": 97,
   "outputs": [
    {
     "data": {
      "text/plain": "     0.00632  18   2.31  0  0.538  6.575  65.2    4.09  1  296  15   396.9  \\\n0    0.02731   0   7.07  0  0.469  6.421  78.9  4.9671  2  242  17  396.90   \n1    0.02729   0   7.07  0  0.469  7.185  61.1  4.9671  2  242  17  392.83   \n2    0.03237   0   2.18  0  0.458  6.998  45.8  6.0622  3  222  18  394.63   \n3    0.06905   0   2.18  0  0.458  7.147  54.2  6.0622  3  222  18  396.90   \n4    0.02985   0   2.18  0  0.458  6.430  58.7  6.0622  3  222  18  394.12   \n..       ...  ..    ... ..    ...    ...   ...     ... ..  ...  ..     ...   \n500  0.06263   0  11.93  0  0.573  6.593  69.1  2.4786  1  273  21  391.99   \n501  0.04527   0  11.93  0  0.573  6.120  76.7  2.2875  1  273  21  396.90   \n502  0.06076   0  11.93  0  0.573  6.976  91.0  2.1675  1  273  21  396.90   \n503  0.10959   0  11.93  0  0.573  6.794  89.3  2.3889  1  273  21  393.45   \n504  0.04741   0  11.93  0  0.573  6.030  80.8  2.5050  1  273  21  396.90   \n\n     4.98  24.0  \n0    9.14  21.6  \n1    4.03  34.7  \n2    2.94  33.4  \n3    5.33  36.2  \n4    5.21  28.7  \n..    ...   ...  \n500  9.67  22.4  \n501  9.08  20.6  \n502  5.64  23.9  \n503  6.48  22.0  \n504  7.88  11.9  \n\n[505 rows x 14 columns]",
      "text/html": "<div>\n<style scoped>\n    .dataframe tbody tr th:only-of-type {\n        vertical-align: middle;\n    }\n\n    .dataframe tbody tr th {\n        vertical-align: top;\n    }\n\n    .dataframe thead th {\n        text-align: right;\n    }\n</style>\n<table border=\"1\" class=\"dataframe\">\n  <thead>\n    <tr style=\"text-align: right;\">\n      <th></th>\n      <th>0.00632</th>\n      <th>18</th>\n      <th>2.31</th>\n      <th>0</th>\n      <th>0.538</th>\n      <th>6.575</th>\n      <th>65.2</th>\n      <th>4.09</th>\n      <th>1</th>\n      <th>296</th>\n      <th>15</th>\n      <th>396.9</th>\n      <th>4.98</th>\n      <th>24.0</th>\n    </tr>\n  </thead>\n  <tbody>\n    <tr>\n      <th>0</th>\n      <td>0.02731</td>\n      <td>0</td>\n      <td>7.07</td>\n      <td>0</td>\n      <td>0.469</td>\n      <td>6.421</td>\n      <td>78.9</td>\n      <td>4.9671</td>\n      <td>2</td>\n      <td>242</td>\n      <td>17</td>\n      <td>396.90</td>\n      <td>9.14</td>\n      <td>21.6</td>\n    </tr>\n    <tr>\n      <th>1</th>\n      <td>0.02729</td>\n      <td>0</td>\n      <td>7.07</td>\n      <td>0</td>\n      <td>0.469</td>\n      <td>7.185</td>\n      <td>61.1</td>\n      <td>4.9671</td>\n      <td>2</td>\n      <td>242</td>\n      <td>17</td>\n      <td>392.83</td>\n      <td>4.03</td>\n      <td>34.7</td>\n    </tr>\n    <tr>\n      <th>2</th>\n      <td>0.03237</td>\n      <td>0</td>\n      <td>2.18</td>\n      <td>0</td>\n      <td>0.458</td>\n      <td>6.998</td>\n      <td>45.8</td>\n      <td>6.0622</td>\n      <td>3</td>\n      <td>222</td>\n      <td>18</td>\n      <td>394.63</td>\n      <td>2.94</td>\n      <td>33.4</td>\n    </tr>\n    <tr>\n      <th>3</th>\n      <td>0.06905</td>\n      <td>0</td>\n      <td>2.18</td>\n      <td>0</td>\n      <td>0.458</td>\n      <td>7.147</td>\n      <td>54.2</td>\n      <td>6.0622</td>\n      <td>3</td>\n      <td>222</td>\n      <td>18</td>\n      <td>396.90</td>\n      <td>5.33</td>\n      <td>36.2</td>\n    </tr>\n    <tr>\n      <th>4</th>\n      <td>0.02985</td>\n      <td>0</td>\n      <td>2.18</td>\n      <td>0</td>\n      <td>0.458</td>\n      <td>6.430</td>\n      <td>58.7</td>\n      <td>6.0622</td>\n      <td>3</td>\n      <td>222</td>\n      <td>18</td>\n      <td>394.12</td>\n      <td>5.21</td>\n      <td>28.7</td>\n    </tr>\n    <tr>\n      <th>...</th>\n      <td>...</td>\n      <td>...</td>\n      <td>...</td>\n      <td>...</td>\n      <td>...</td>\n      <td>...</td>\n      <td>...</td>\n      <td>...</td>\n      <td>...</td>\n      <td>...</td>\n      <td>...</td>\n      <td>...</td>\n      <td>...</td>\n      <td>...</td>\n    </tr>\n    <tr>\n      <th>500</th>\n      <td>0.06263</td>\n      <td>0</td>\n      <td>11.93</td>\n      <td>0</td>\n      <td>0.573</td>\n      <td>6.593</td>\n      <td>69.1</td>\n      <td>2.4786</td>\n      <td>1</td>\n      <td>273</td>\n      <td>21</td>\n      <td>391.99</td>\n      <td>9.67</td>\n      <td>22.4</td>\n    </tr>\n    <tr>\n      <th>501</th>\n      <td>0.04527</td>\n      <td>0</td>\n      <td>11.93</td>\n      <td>0</td>\n      <td>0.573</td>\n      <td>6.120</td>\n      <td>76.7</td>\n      <td>2.2875</td>\n      <td>1</td>\n      <td>273</td>\n      <td>21</td>\n      <td>396.90</td>\n      <td>9.08</td>\n      <td>20.6</td>\n    </tr>\n    <tr>\n      <th>502</th>\n      <td>0.06076</td>\n      <td>0</td>\n      <td>11.93</td>\n      <td>0</td>\n      <td>0.573</td>\n      <td>6.976</td>\n      <td>91.0</td>\n      <td>2.1675</td>\n      <td>1</td>\n      <td>273</td>\n      <td>21</td>\n      <td>396.90</td>\n      <td>5.64</td>\n      <td>23.9</td>\n    </tr>\n    <tr>\n      <th>503</th>\n      <td>0.10959</td>\n      <td>0</td>\n      <td>11.93</td>\n      <td>0</td>\n      <td>0.573</td>\n      <td>6.794</td>\n      <td>89.3</td>\n      <td>2.3889</td>\n      <td>1</td>\n      <td>273</td>\n      <td>21</td>\n      <td>393.45</td>\n      <td>6.48</td>\n      <td>22.0</td>\n    </tr>\n    <tr>\n      <th>504</th>\n      <td>0.04741</td>\n      <td>0</td>\n      <td>11.93</td>\n      <td>0</td>\n      <td>0.573</td>\n      <td>6.030</td>\n      <td>80.8</td>\n      <td>2.5050</td>\n      <td>1</td>\n      <td>273</td>\n      <td>21</td>\n      <td>396.90</td>\n      <td>7.88</td>\n      <td>11.9</td>\n    </tr>\n  </tbody>\n</table>\n<p>505 rows × 14 columns</p>\n</div>"
     },
     "execution_count": 97,
     "metadata": {},
     "output_type": "execute_result"
    }
   ],
   "source": [
    "# Load data with read csv\n",
    "housing2 = pd.read_csv('../../data/regression-datasets-housing.csv')\n",
    "housing2"
   ],
   "metadata": {
    "collapsed": false,
    "ExecuteTime": {
     "end_time": "2023-12-31T09:11:08.445877200Z",
     "start_time": "2023-12-31T09:11:08.323249100Z"
    }
   },
   "id": "ea8fe58c8aa6dada"
  },
  {
   "cell_type": "markdown",
   "source": [
    "## Scikit-learn sample generators"
   ],
   "metadata": {
    "collapsed": false
   },
   "id": "480c8db9a2024f99"
  },
  {
   "cell_type": "code",
   "execution_count": 98,
   "outputs": [
    {
     "name": "stdout",
     "output_type": "stream",
     "text": [
      "(1000000, 10) (1000000,)\n"
     ]
    }
   ],
   "source": [
    "from sklearn import  datasets\n",
    "x,y = datasets.make_classification(n_samples=10**6,n_features=10,random_state=101)\n",
    "print(x.shape , y.shape)"
   ],
   "metadata": {
    "collapsed": false,
    "ExecuteTime": {
     "end_time": "2023-12-31T09:16:29.539955300Z",
     "start_time": "2023-12-31T09:16:28.716306300Z"
    }
   },
   "id": "dade79f3cabac21a"
  },
  {
   "cell_type": "code",
   "execution_count": null,
   "outputs": [],
   "source": [],
   "metadata": {
    "collapsed": false
   },
   "id": "d93686522f2ef3aa"
  }
 ],
 "metadata": {
  "kernelspec": {
   "display_name": "Python 3",
   "language": "python",
   "name": "python3"
  },
  "language_info": {
   "codemirror_mode": {
    "name": "ipython",
    "version": 2
   },
   "file_extension": ".py",
   "mimetype": "text/x-python",
   "name": "python",
   "nbconvert_exporter": "python",
   "pygments_lexer": "ipython2",
   "version": "2.7.6"
  }
 },
 "nbformat": 4,
 "nbformat_minor": 5
}
