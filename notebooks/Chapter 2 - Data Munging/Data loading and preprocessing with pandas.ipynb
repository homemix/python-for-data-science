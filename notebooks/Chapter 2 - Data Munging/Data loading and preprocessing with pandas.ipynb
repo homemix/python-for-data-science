{
 "cells": [
  {
   "cell_type": "markdown",
   "source": [
    "# Data loading and preprocessing with pandas"
   ],
   "metadata": {
    "collapsed": false
   },
   "id": "b7d346c4d1204135"
  },
  {
   "cell_type": "markdown",
   "source": [
    "## Fast and easy data loading"
   ],
   "metadata": {
    "collapsed": false
   },
   "id": "b81c974990c72bd3"
  },
  {
   "cell_type": "code",
   "execution_count": 2,
   "outputs": [],
   "source": [
    "import pandas as pd"
   ],
   "metadata": {
    "collapsed": false,
    "ExecuteTime": {
     "end_time": "2023-12-31T11:10:54.088663900Z",
     "start_time": "2023-12-31T11:10:51.456485Z"
    }
   },
   "id": "ba51a3c66a07489b"
  },
  {
   "cell_type": "code",
   "execution_count": 3,
   "outputs": [
    {
     "data": {
      "text/plain": "   sepal_length  sepal_width  petal_length  petal_width       target\n0           5.1          3.5           1.4          0.2  Iris-setosa\n1           4.9          3.0           1.4          0.2  Iris-setosa\n2           4.7          3.2           1.3          0.2  Iris-setosa\n3           4.6          3.1           1.5          0.2  Iris-setosa\n4           5.0          3.6           1.4          0.2  Iris-setosa",
      "text/html": "<div>\n<style scoped>\n    .dataframe tbody tr th:only-of-type {\n        vertical-align: middle;\n    }\n\n    .dataframe tbody tr th {\n        vertical-align: top;\n    }\n\n    .dataframe thead th {\n        text-align: right;\n    }\n</style>\n<table border=\"1\" class=\"dataframe\">\n  <thead>\n    <tr style=\"text-align: right;\">\n      <th></th>\n      <th>sepal_length</th>\n      <th>sepal_width</th>\n      <th>petal_length</th>\n      <th>petal_width</th>\n      <th>target</th>\n    </tr>\n  </thead>\n  <tbody>\n    <tr>\n      <th>0</th>\n      <td>5.1</td>\n      <td>3.5</td>\n      <td>1.4</td>\n      <td>0.2</td>\n      <td>Iris-setosa</td>\n    </tr>\n    <tr>\n      <th>1</th>\n      <td>4.9</td>\n      <td>3.0</td>\n      <td>1.4</td>\n      <td>0.2</td>\n      <td>Iris-setosa</td>\n    </tr>\n    <tr>\n      <th>2</th>\n      <td>4.7</td>\n      <td>3.2</td>\n      <td>1.3</td>\n      <td>0.2</td>\n      <td>Iris-setosa</td>\n    </tr>\n    <tr>\n      <th>3</th>\n      <td>4.6</td>\n      <td>3.1</td>\n      <td>1.5</td>\n      <td>0.2</td>\n      <td>Iris-setosa</td>\n    </tr>\n    <tr>\n      <th>4</th>\n      <td>5.0</td>\n      <td>3.6</td>\n      <td>1.4</td>\n      <td>0.2</td>\n      <td>Iris-setosa</td>\n    </tr>\n  </tbody>\n</table>\n</div>"
     },
     "execution_count": 3,
     "metadata": {},
     "output_type": "execute_result"
    }
   ],
   "source": [
    "iris_filename ='../../data/datasets-uci-iris.csv'\n",
    "iris = pd.read_csv(iris_filename,sep=',',header=None,decimal='.',\n",
    "                   names=['sepal_length','sepal_width','petal_length','petal_width','target'])\n",
    "iris.head()"
   ],
   "metadata": {
    "collapsed": false,
    "ExecuteTime": {
     "end_time": "2023-12-31T11:10:54.115135900Z",
     "start_time": "2023-12-31T11:10:54.092236600Z"
    }
   },
   "id": "be7d6b0a300e3a66"
  },
  {
   "cell_type": "code",
   "execution_count": 4,
   "outputs": [
    {
     "data": {
      "text/plain": "     sepal_length  sepal_width  petal_length  petal_width          target\n145           6.7          3.0           5.2          2.3  Iris-virginica\n146           6.3          2.5           5.0          1.9  Iris-virginica\n147           6.5          3.0           5.2          2.0  Iris-virginica\n148           6.2          3.4           5.4          2.3  Iris-virginica\n149           5.9          3.0           5.1          1.8  Iris-virginica",
      "text/html": "<div>\n<style scoped>\n    .dataframe tbody tr th:only-of-type {\n        vertical-align: middle;\n    }\n\n    .dataframe tbody tr th {\n        vertical-align: top;\n    }\n\n    .dataframe thead th {\n        text-align: right;\n    }\n</style>\n<table border=\"1\" class=\"dataframe\">\n  <thead>\n    <tr style=\"text-align: right;\">\n      <th></th>\n      <th>sepal_length</th>\n      <th>sepal_width</th>\n      <th>petal_length</th>\n      <th>petal_width</th>\n      <th>target</th>\n    </tr>\n  </thead>\n  <tbody>\n    <tr>\n      <th>145</th>\n      <td>6.7</td>\n      <td>3.0</td>\n      <td>5.2</td>\n      <td>2.3</td>\n      <td>Iris-virginica</td>\n    </tr>\n    <tr>\n      <th>146</th>\n      <td>6.3</td>\n      <td>2.5</td>\n      <td>5.0</td>\n      <td>1.9</td>\n      <td>Iris-virginica</td>\n    </tr>\n    <tr>\n      <th>147</th>\n      <td>6.5</td>\n      <td>3.0</td>\n      <td>5.2</td>\n      <td>2.0</td>\n      <td>Iris-virginica</td>\n    </tr>\n    <tr>\n      <th>148</th>\n      <td>6.2</td>\n      <td>3.4</td>\n      <td>5.4</td>\n      <td>2.3</td>\n      <td>Iris-virginica</td>\n    </tr>\n    <tr>\n      <th>149</th>\n      <td>5.9</td>\n      <td>3.0</td>\n      <td>5.1</td>\n      <td>1.8</td>\n      <td>Iris-virginica</td>\n    </tr>\n  </tbody>\n</table>\n</div>"
     },
     "execution_count": 4,
     "metadata": {},
     "output_type": "execute_result"
    }
   ],
   "source": [
    "# get the last 5 \n",
    "iris.tail()"
   ],
   "metadata": {
    "collapsed": false,
    "ExecuteTime": {
     "end_time": "2023-12-31T11:10:54.131173900Z",
     "start_time": "2023-12-31T11:10:54.116154400Z"
    }
   },
   "id": "c3fc2d5c4ae3a06c"
  },
  {
   "cell_type": "code",
   "execution_count": 5,
   "outputs": [
    {
     "data": {
      "text/plain": "Index(['sepal_length', 'sepal_width', 'petal_length', 'petal_width', 'target'], dtype='object')"
     },
     "execution_count": 5,
     "metadata": {},
     "output_type": "execute_result"
    }
   ],
   "source": [
    "# print the name of the columns\n",
    "iris.columns"
   ],
   "metadata": {
    "collapsed": false,
    "ExecuteTime": {
     "end_time": "2023-12-31T11:10:54.165743300Z",
     "start_time": "2023-12-31T11:10:54.130174300Z"
    }
   },
   "id": "5362c59f1e10f3eb"
  },
  {
   "cell_type": "code",
   "execution_count": 6,
   "outputs": [
    {
     "data": {
      "text/plain": "0         Iris-setosa\n1         Iris-setosa\n2         Iris-setosa\n3         Iris-setosa\n4         Iris-setosa\n            ...      \n145    Iris-virginica\n146    Iris-virginica\n147    Iris-virginica\n148    Iris-virginica\n149    Iris-virginica\nName: target, Length: 150, dtype: object"
     },
     "execution_count": 6,
     "metadata": {},
     "output_type": "execute_result"
    }
   ],
   "source": [
    "# The result of column is pandas index\n",
    "# get a single column values\n",
    "iris['target']"
   ],
   "metadata": {
    "collapsed": false,
    "ExecuteTime": {
     "end_time": "2023-12-31T11:10:54.209084500Z",
     "start_time": "2023-12-31T11:10:54.142628700Z"
    }
   },
   "id": "1401b39c303c7761"
  },
  {
   "cell_type": "code",
   "execution_count": 7,
   "outputs": [
    {
     "data": {
      "text/plain": "     sepal_length  sepal_width\n0             5.1          3.5\n1             4.9          3.0\n2             4.7          3.2\n3             4.6          3.1\n4             5.0          3.6\n..            ...          ...\n145           6.7          3.0\n146           6.3          2.5\n147           6.5          3.0\n148           6.2          3.4\n149           5.9          3.0\n\n[150 rows x 2 columns]",
      "text/html": "<div>\n<style scoped>\n    .dataframe tbody tr th:only-of-type {\n        vertical-align: middle;\n    }\n\n    .dataframe tbody tr th {\n        vertical-align: top;\n    }\n\n    .dataframe thead th {\n        text-align: right;\n    }\n</style>\n<table border=\"1\" class=\"dataframe\">\n  <thead>\n    <tr style=\"text-align: right;\">\n      <th></th>\n      <th>sepal_length</th>\n      <th>sepal_width</th>\n    </tr>\n  </thead>\n  <tbody>\n    <tr>\n      <th>0</th>\n      <td>5.1</td>\n      <td>3.5</td>\n    </tr>\n    <tr>\n      <th>1</th>\n      <td>4.9</td>\n      <td>3.0</td>\n    </tr>\n    <tr>\n      <th>2</th>\n      <td>4.7</td>\n      <td>3.2</td>\n    </tr>\n    <tr>\n      <th>3</th>\n      <td>4.6</td>\n      <td>3.1</td>\n    </tr>\n    <tr>\n      <th>4</th>\n      <td>5.0</td>\n      <td>3.6</td>\n    </tr>\n    <tr>\n      <th>...</th>\n      <td>...</td>\n      <td>...</td>\n    </tr>\n    <tr>\n      <th>145</th>\n      <td>6.7</td>\n      <td>3.0</td>\n    </tr>\n    <tr>\n      <th>146</th>\n      <td>6.3</td>\n      <td>2.5</td>\n    </tr>\n    <tr>\n      <th>147</th>\n      <td>6.5</td>\n      <td>3.0</td>\n    </tr>\n    <tr>\n      <th>148</th>\n      <td>6.2</td>\n      <td>3.4</td>\n    </tr>\n    <tr>\n      <th>149</th>\n      <td>5.9</td>\n      <td>3.0</td>\n    </tr>\n  </tbody>\n</table>\n<p>150 rows × 2 columns</p>\n</div>"
     },
     "execution_count": 7,
     "metadata": {},
     "output_type": "execute_result"
    }
   ],
   "source": [
    "# or multiple column values\n",
    "iris[['sepal_length','sepal_width']]"
   ],
   "metadata": {
    "collapsed": false,
    "ExecuteTime": {
     "end_time": "2023-12-31T11:10:54.240908400Z",
     "start_time": "2023-12-31T11:10:54.147186300Z"
    }
   },
   "id": "feb45dbabc493fe8"
  },
  {
   "cell_type": "code",
   "execution_count": 8,
   "outputs": [
    {
     "data": {
      "text/plain": "(150, 5)"
     },
     "execution_count": 8,
     "metadata": {},
     "output_type": "execute_result"
    }
   ],
   "source": [
    "# get the data shape (data dimensions)\n",
    "iris.shape"
   ],
   "metadata": {
    "collapsed": false,
    "ExecuteTime": {
     "end_time": "2023-12-31T11:10:54.284240900Z",
     "start_time": "2023-12-31T11:10:54.163304500Z"
    }
   },
   "id": "304110a077eef025"
  },
  {
   "cell_type": "code",
   "execution_count": 9,
   "outputs": [
    {
     "data": {
      "text/plain": "(150,)"
     },
     "execution_count": 9,
     "metadata": {},
     "output_type": "execute_result"
    }
   ],
   "source": [
    "iris['target'].shape"
   ],
   "metadata": {
    "collapsed": false,
    "ExecuteTime": {
     "end_time": "2023-12-31T11:10:54.298890100Z",
     "start_time": "2023-12-31T11:10:54.171258600Z"
    }
   },
   "id": "1ab277b359418278"
  },
  {
   "cell_type": "code",
   "execution_count": 10,
   "outputs": [
    {
     "data": {
      "text/plain": "(150, 2)"
     },
     "execution_count": 10,
     "metadata": {},
     "output_type": "execute_result"
    }
   ],
   "source": [
    "iris[['sepal_length','sepal_width']].shape"
   ],
   "metadata": {
    "collapsed": false,
    "ExecuteTime": {
     "end_time": "2023-12-31T11:10:54.298890100Z",
     "start_time": "2023-12-31T11:10:54.178160600Z"
    }
   },
   "id": "844b2b110757a004"
  },
  {
   "cell_type": "markdown",
   "source": [
    "# Dealing with problematic data."
   ],
   "metadata": {
    "collapsed": false
   },
   "id": "13820b8c4c4e785d"
  },
  {
   "cell_type": "code",
   "execution_count": 11,
   "outputs": [
    {
     "data": {
      "text/plain": "       Date  Temperature_city_1  Temperature_city_2  Temperature_city_3  \\\n0  20140910                80.0                32.0                  40   \n1  20140911               100.0                50.0                  36   \n2  20140912               102.0                55.0                  46   \n3  20140912                60.0                20.0                  35   \n4  20140914                60.0                 NaN                  32   \n5  20140914                 NaN                57.0                  42   \n\n   Which_destination  \n0                  1  \n1                  2  \n2                  1  \n3                  3  \n4                  3  \n5                  2  ",
      "text/html": "<div>\n<style scoped>\n    .dataframe tbody tr th:only-of-type {\n        vertical-align: middle;\n    }\n\n    .dataframe tbody tr th {\n        vertical-align: top;\n    }\n\n    .dataframe thead th {\n        text-align: right;\n    }\n</style>\n<table border=\"1\" class=\"dataframe\">\n  <thead>\n    <tr style=\"text-align: right;\">\n      <th></th>\n      <th>Date</th>\n      <th>Temperature_city_1</th>\n      <th>Temperature_city_2</th>\n      <th>Temperature_city_3</th>\n      <th>Which_destination</th>\n    </tr>\n  </thead>\n  <tbody>\n    <tr>\n      <th>0</th>\n      <td>20140910</td>\n      <td>80.0</td>\n      <td>32.0</td>\n      <td>40</td>\n      <td>1</td>\n    </tr>\n    <tr>\n      <th>1</th>\n      <td>20140911</td>\n      <td>100.0</td>\n      <td>50.0</td>\n      <td>36</td>\n      <td>2</td>\n    </tr>\n    <tr>\n      <th>2</th>\n      <td>20140912</td>\n      <td>102.0</td>\n      <td>55.0</td>\n      <td>46</td>\n      <td>1</td>\n    </tr>\n    <tr>\n      <th>3</th>\n      <td>20140912</td>\n      <td>60.0</td>\n      <td>20.0</td>\n      <td>35</td>\n      <td>3</td>\n    </tr>\n    <tr>\n      <th>4</th>\n      <td>20140914</td>\n      <td>60.0</td>\n      <td>NaN</td>\n      <td>32</td>\n      <td>3</td>\n    </tr>\n    <tr>\n      <th>5</th>\n      <td>20140914</td>\n      <td>NaN</td>\n      <td>57.0</td>\n      <td>42</td>\n      <td>2</td>\n    </tr>\n  </tbody>\n</table>\n</div>"
     },
     "execution_count": 11,
     "metadata": {},
     "output_type": "execute_result"
    }
   ],
   "source": [
    "# What happens when CSV has a header and some missing values and dates\n",
    "fake_dataset = pd.read_csv('../../data/a_loading_example_1.csv')\n",
    "fake_dataset"
   ],
   "metadata": {
    "collapsed": false,
    "ExecuteTime": {
     "end_time": "2023-12-31T11:10:54.316484400Z",
     "start_time": "2023-12-31T11:10:54.187869300Z"
    }
   },
   "id": "acc25de1688d05ab"
  },
  {
   "cell_type": "code",
   "execution_count": 12,
   "outputs": [
    {
     "data": {
      "text/plain": "        Date  Temperature_city_1  Temperature_city_2  Temperature_city_3  \\\n0 2014-09-10                80.0                32.0                  40   \n1 2014-09-11               100.0                50.0                  36   \n2 2014-09-12               102.0                55.0                  46   \n3 2014-09-12                60.0                20.0                  35   \n4 2014-09-14                60.0                 NaN                  32   \n5 2014-09-14                 NaN                57.0                  42   \n\n   Which_destination  \n0                  1  \n1                  2  \n2                  1  \n3                  3  \n4                  3  \n5                  2  ",
      "text/html": "<div>\n<style scoped>\n    .dataframe tbody tr th:only-of-type {\n        vertical-align: middle;\n    }\n\n    .dataframe tbody tr th {\n        vertical-align: top;\n    }\n\n    .dataframe thead th {\n        text-align: right;\n    }\n</style>\n<table border=\"1\" class=\"dataframe\">\n  <thead>\n    <tr style=\"text-align: right;\">\n      <th></th>\n      <th>Date</th>\n      <th>Temperature_city_1</th>\n      <th>Temperature_city_2</th>\n      <th>Temperature_city_3</th>\n      <th>Which_destination</th>\n    </tr>\n  </thead>\n  <tbody>\n    <tr>\n      <th>0</th>\n      <td>2014-09-10</td>\n      <td>80.0</td>\n      <td>32.0</td>\n      <td>40</td>\n      <td>1</td>\n    </tr>\n    <tr>\n      <th>1</th>\n      <td>2014-09-11</td>\n      <td>100.0</td>\n      <td>50.0</td>\n      <td>36</td>\n      <td>2</td>\n    </tr>\n    <tr>\n      <th>2</th>\n      <td>2014-09-12</td>\n      <td>102.0</td>\n      <td>55.0</td>\n      <td>46</td>\n      <td>1</td>\n    </tr>\n    <tr>\n      <th>3</th>\n      <td>2014-09-12</td>\n      <td>60.0</td>\n      <td>20.0</td>\n      <td>35</td>\n      <td>3</td>\n    </tr>\n    <tr>\n      <th>4</th>\n      <td>2014-09-14</td>\n      <td>60.0</td>\n      <td>NaN</td>\n      <td>32</td>\n      <td>3</td>\n    </tr>\n    <tr>\n      <th>5</th>\n      <td>2014-09-14</td>\n      <td>NaN</td>\n      <td>57.0</td>\n      <td>42</td>\n      <td>2</td>\n    </tr>\n  </tbody>\n</table>\n</div>"
     },
     "execution_count": 12,
     "metadata": {},
     "output_type": "execute_result"
    }
   ],
   "source": [
    "# Autodetect date columns and load it correctly\n",
    "fake_dataset = pd.read_csv('../../data/a_loading_example_1.csv',parse_dates=[0])\n",
    "fake_dataset"
   ],
   "metadata": {
    "collapsed": false,
    "ExecuteTime": {
     "end_time": "2023-12-31T11:10:54.322116700Z",
     "start_time": "2023-12-31T11:10:54.202035600Z"
    }
   },
   "id": "9a722c476a334311"
  },
  {
   "cell_type": "code",
   "execution_count": 13,
   "outputs": [
    {
     "data": {
      "text/plain": "        Date  Temperature_city_1  Temperature_city_2  Temperature_city_3  \\\n0 2014-09-10                80.0                32.0                  40   \n1 2014-09-11               100.0                50.0                  36   \n2 2014-09-12               102.0                55.0                  46   \n3 2014-09-12                60.0                20.0                  35   \n4 2014-09-14                60.0                50.0                  32   \n5 2014-09-14                50.0                57.0                  42   \n\n   Which_destination  \n0                  1  \n1                  2  \n2                  1  \n3                  3  \n4                  3  \n5                  2  ",
      "text/html": "<div>\n<style scoped>\n    .dataframe tbody tr th:only-of-type {\n        vertical-align: middle;\n    }\n\n    .dataframe tbody tr th {\n        vertical-align: top;\n    }\n\n    .dataframe thead th {\n        text-align: right;\n    }\n</style>\n<table border=\"1\" class=\"dataframe\">\n  <thead>\n    <tr style=\"text-align: right;\">\n      <th></th>\n      <th>Date</th>\n      <th>Temperature_city_1</th>\n      <th>Temperature_city_2</th>\n      <th>Temperature_city_3</th>\n      <th>Which_destination</th>\n    </tr>\n  </thead>\n  <tbody>\n    <tr>\n      <th>0</th>\n      <td>2014-09-10</td>\n      <td>80.0</td>\n      <td>32.0</td>\n      <td>40</td>\n      <td>1</td>\n    </tr>\n    <tr>\n      <th>1</th>\n      <td>2014-09-11</td>\n      <td>100.0</td>\n      <td>50.0</td>\n      <td>36</td>\n      <td>2</td>\n    </tr>\n    <tr>\n      <th>2</th>\n      <td>2014-09-12</td>\n      <td>102.0</td>\n      <td>55.0</td>\n      <td>46</td>\n      <td>1</td>\n    </tr>\n    <tr>\n      <th>3</th>\n      <td>2014-09-12</td>\n      <td>60.0</td>\n      <td>20.0</td>\n      <td>35</td>\n      <td>3</td>\n    </tr>\n    <tr>\n      <th>4</th>\n      <td>2014-09-14</td>\n      <td>60.0</td>\n      <td>50.0</td>\n      <td>32</td>\n      <td>3</td>\n    </tr>\n    <tr>\n      <th>5</th>\n      <td>2014-09-14</td>\n      <td>50.0</td>\n      <td>57.0</td>\n      <td>42</td>\n      <td>2</td>\n    </tr>\n  </tbody>\n</table>\n</div>"
     },
     "execution_count": 13,
     "metadata": {},
     "output_type": "execute_result"
    }
   ],
   "source": [
    "# Fill missing values with a number let's say  50\n",
    "# in real data this value must be realistic.\n",
    "fake_dataset.fillna(50)"
   ],
   "metadata": {
    "collapsed": false,
    "ExecuteTime": {
     "end_time": "2023-12-31T11:10:54.341356500Z",
     "start_time": "2023-12-31T11:10:54.219096300Z"
    }
   },
   "id": "a5b9200ae4d0c8d2"
  },
  {
   "cell_type": "code",
   "execution_count": 14,
   "outputs": [
    {
     "data": {
      "text/plain": "        Date  Temperature_city_1  Temperature_city_2  Temperature_city_3  \\\n0 2014-09-10                80.0                32.0                  40   \n1 2014-09-11               100.0                50.0                  36   \n2 2014-09-12               102.0                55.0                  46   \n3 2014-09-12                60.0                20.0                  35   \n4 2014-09-14                60.0                42.8                  32   \n5 2014-09-14                80.4                57.0                  42   \n\n   Which_destination  \n0                  1  \n1                  2  \n2                  1  \n3                  3  \n4                  3  \n5                  2  ",
      "text/html": "<div>\n<style scoped>\n    .dataframe tbody tr th:only-of-type {\n        vertical-align: middle;\n    }\n\n    .dataframe tbody tr th {\n        vertical-align: top;\n    }\n\n    .dataframe thead th {\n        text-align: right;\n    }\n</style>\n<table border=\"1\" class=\"dataframe\">\n  <thead>\n    <tr style=\"text-align: right;\">\n      <th></th>\n      <th>Date</th>\n      <th>Temperature_city_1</th>\n      <th>Temperature_city_2</th>\n      <th>Temperature_city_3</th>\n      <th>Which_destination</th>\n    </tr>\n  </thead>\n  <tbody>\n    <tr>\n      <th>0</th>\n      <td>2014-09-10</td>\n      <td>80.0</td>\n      <td>32.0</td>\n      <td>40</td>\n      <td>1</td>\n    </tr>\n    <tr>\n      <th>1</th>\n      <td>2014-09-11</td>\n      <td>100.0</td>\n      <td>50.0</td>\n      <td>36</td>\n      <td>2</td>\n    </tr>\n    <tr>\n      <th>2</th>\n      <td>2014-09-12</td>\n      <td>102.0</td>\n      <td>55.0</td>\n      <td>46</td>\n      <td>1</td>\n    </tr>\n    <tr>\n      <th>3</th>\n      <td>2014-09-12</td>\n      <td>60.0</td>\n      <td>20.0</td>\n      <td>35</td>\n      <td>3</td>\n    </tr>\n    <tr>\n      <th>4</th>\n      <td>2014-09-14</td>\n      <td>60.0</td>\n      <td>42.8</td>\n      <td>32</td>\n      <td>3</td>\n    </tr>\n    <tr>\n      <th>5</th>\n      <td>2014-09-14</td>\n      <td>80.4</td>\n      <td>57.0</td>\n      <td>42</td>\n      <td>2</td>\n    </tr>\n  </tbody>\n</table>\n</div>"
     },
     "execution_count": 14,
     "metadata": {},
     "output_type": "execute_result"
    }
   ],
   "source": [
    "# Replace with mean for the data.\n",
    "# axis= 0 means row wise\n",
    "# axis =1 means column wise\n",
    "fake_dataset.fillna(fake_dataset.mean(axis=0),inplace=True)\n",
    "fake_dataset"
   ],
   "metadata": {
    "collapsed": false,
    "ExecuteTime": {
     "end_time": "2023-12-31T11:10:54.356900900Z",
     "start_time": "2023-12-31T11:10:54.233372900Z"
    }
   },
   "id": "106eafe750284ba0"
  },
  {
   "cell_type": "code",
   "execution_count": 15,
   "outputs": [
    {
     "ename": "TypeError",
     "evalue": "read_csv() got an unexpected keyword argument 'error_bad_lines'",
     "output_type": "error",
     "traceback": [
      "\u001B[1;31m---------------------------------------------------------------------------\u001B[0m",
      "\u001B[1;31mTypeError\u001B[0m                                 Traceback (most recent call last)",
      "Cell \u001B[1;32mIn[15], line 2\u001B[0m\n\u001B[0;32m      1\u001B[0m \u001B[38;5;66;03m# Loading bad dataset, ignore the bad data\u001B[39;00m\n\u001B[1;32m----> 2\u001B[0m bad_dataset \u001B[38;5;241m=\u001B[39m \u001B[43mpd\u001B[49m\u001B[38;5;241;43m.\u001B[39;49m\u001B[43mread_csv\u001B[49m\u001B[43m(\u001B[49m\u001B[38;5;124;43m'\u001B[39;49m\u001B[38;5;124;43m../../data/a_loading_example_2.csv\u001B[39;49m\u001B[38;5;124;43m'\u001B[39;49m\u001B[43m,\u001B[49m\u001B[43merror_bad_lines\u001B[49m\u001B[38;5;241;43m=\u001B[39;49m\u001B[38;5;28;43;01mFalse\u001B[39;49;00m\u001B[43m)\u001B[49m\n\u001B[0;32m      3\u001B[0m bad_dataset\n",
      "\u001B[1;31mTypeError\u001B[0m: read_csv() got an unexpected keyword argument 'error_bad_lines'"
     ]
    }
   ],
   "source": [
    "# Loading bad dataset, ignore the bad data\n",
    "bad_dataset = pd.read_csv('../../data/a_loading_example_2.csv',error_bad_lines=False)\n",
    "bad_dataset"
   ],
   "metadata": {
    "collapsed": false,
    "ExecuteTime": {
     "end_time": "2023-12-31T11:10:54.436719700Z",
     "start_time": "2023-12-31T11:10:54.251112900Z"
    }
   },
   "id": "c7b4650e4a46b90e"
  },
  {
   "cell_type": "markdown",
   "source": [
    "# Dealing with big datasets"
   ],
   "metadata": {
    "collapsed": false
   },
   "id": "6584557044669053"
  },
  {
   "cell_type": "code",
   "execution_count": null,
   "outputs": [],
   "source": [],
   "metadata": {
    "collapsed": false
   },
   "id": "19f3994c95a8c37e"
  }
 ],
 "metadata": {
  "kernelspec": {
   "display_name": "Python 3",
   "language": "python",
   "name": "python3"
  },
  "language_info": {
   "codemirror_mode": {
    "name": "ipython",
    "version": 2
   },
   "file_extension": ".py",
   "mimetype": "text/x-python",
   "name": "python",
   "nbconvert_exporter": "python",
   "pygments_lexer": "ipython2",
   "version": "2.7.6"
  }
 },
 "nbformat": 4,
 "nbformat_minor": 5
}
