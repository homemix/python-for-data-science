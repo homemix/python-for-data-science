{
 "cells": [
  {
   "cell_type": "markdown",
   "source": [
    "# Data loading and preprocessing with pandas"
   ],
   "metadata": {
    "collapsed": false
   },
   "id": "b7d346c4d1204135"
  },
  {
   "cell_type": "markdown",
   "source": [
    "## Fast and easy data loading"
   ],
   "metadata": {
    "collapsed": false
   },
   "id": "b81c974990c72bd3"
  },
  {
   "cell_type": "code",
   "execution_count": 1,
   "outputs": [],
   "source": [
    "import pandas as pd"
   ],
   "metadata": {
    "collapsed": false,
    "ExecuteTime": {
     "end_time": "2024-01-02T07:17:55.006557Z",
     "start_time": "2024-01-02T07:17:52.168480900Z"
    }
   },
   "id": "ba51a3c66a07489b"
  },
  {
   "cell_type": "code",
   "execution_count": 2,
   "outputs": [
    {
     "data": {
      "text/plain": "   sepal_length  sepal_width  petal_length  petal_width       target\n0           5.1          3.5           1.4          0.2  Iris-setosa\n1           4.9          3.0           1.4          0.2  Iris-setosa\n2           4.7          3.2           1.3          0.2  Iris-setosa\n3           4.6          3.1           1.5          0.2  Iris-setosa\n4           5.0          3.6           1.4          0.2  Iris-setosa",
      "text/html": "<div>\n<style scoped>\n    .dataframe tbody tr th:only-of-type {\n        vertical-align: middle;\n    }\n\n    .dataframe tbody tr th {\n        vertical-align: top;\n    }\n\n    .dataframe thead th {\n        text-align: right;\n    }\n</style>\n<table border=\"1\" class=\"dataframe\">\n  <thead>\n    <tr style=\"text-align: right;\">\n      <th></th>\n      <th>sepal_length</th>\n      <th>sepal_width</th>\n      <th>petal_length</th>\n      <th>petal_width</th>\n      <th>target</th>\n    </tr>\n  </thead>\n  <tbody>\n    <tr>\n      <th>0</th>\n      <td>5.1</td>\n      <td>3.5</td>\n      <td>1.4</td>\n      <td>0.2</td>\n      <td>Iris-setosa</td>\n    </tr>\n    <tr>\n      <th>1</th>\n      <td>4.9</td>\n      <td>3.0</td>\n      <td>1.4</td>\n      <td>0.2</td>\n      <td>Iris-setosa</td>\n    </tr>\n    <tr>\n      <th>2</th>\n      <td>4.7</td>\n      <td>3.2</td>\n      <td>1.3</td>\n      <td>0.2</td>\n      <td>Iris-setosa</td>\n    </tr>\n    <tr>\n      <th>3</th>\n      <td>4.6</td>\n      <td>3.1</td>\n      <td>1.5</td>\n      <td>0.2</td>\n      <td>Iris-setosa</td>\n    </tr>\n    <tr>\n      <th>4</th>\n      <td>5.0</td>\n      <td>3.6</td>\n      <td>1.4</td>\n      <td>0.2</td>\n      <td>Iris-setosa</td>\n    </tr>\n  </tbody>\n</table>\n</div>"
     },
     "execution_count": 2,
     "metadata": {},
     "output_type": "execute_result"
    }
   ],
   "source": [
    "iris_filename ='../../data/datasets-uci-iris.csv'\n",
    "iris = pd.read_csv(iris_filename,sep=',',header=None,decimal='.',\n",
    "                   names=['sepal_length','sepal_width','petal_length','petal_width','target'])\n",
    "iris.head()"
   ],
   "metadata": {
    "collapsed": false,
    "ExecuteTime": {
     "end_time": "2024-01-02T07:17:55.067476200Z",
     "start_time": "2024-01-02T07:17:55.008636400Z"
    }
   },
   "id": "be7d6b0a300e3a66"
  },
  {
   "cell_type": "code",
   "execution_count": 3,
   "outputs": [
    {
     "data": {
      "text/plain": "     sepal_length  sepal_width  petal_length  petal_width          target\n145           6.7          3.0           5.2          2.3  Iris-virginica\n146           6.3          2.5           5.0          1.9  Iris-virginica\n147           6.5          3.0           5.2          2.0  Iris-virginica\n148           6.2          3.4           5.4          2.3  Iris-virginica\n149           5.9          3.0           5.1          1.8  Iris-virginica",
      "text/html": "<div>\n<style scoped>\n    .dataframe tbody tr th:only-of-type {\n        vertical-align: middle;\n    }\n\n    .dataframe tbody tr th {\n        vertical-align: top;\n    }\n\n    .dataframe thead th {\n        text-align: right;\n    }\n</style>\n<table border=\"1\" class=\"dataframe\">\n  <thead>\n    <tr style=\"text-align: right;\">\n      <th></th>\n      <th>sepal_length</th>\n      <th>sepal_width</th>\n      <th>petal_length</th>\n      <th>petal_width</th>\n      <th>target</th>\n    </tr>\n  </thead>\n  <tbody>\n    <tr>\n      <th>145</th>\n      <td>6.7</td>\n      <td>3.0</td>\n      <td>5.2</td>\n      <td>2.3</td>\n      <td>Iris-virginica</td>\n    </tr>\n    <tr>\n      <th>146</th>\n      <td>6.3</td>\n      <td>2.5</td>\n      <td>5.0</td>\n      <td>1.9</td>\n      <td>Iris-virginica</td>\n    </tr>\n    <tr>\n      <th>147</th>\n      <td>6.5</td>\n      <td>3.0</td>\n      <td>5.2</td>\n      <td>2.0</td>\n      <td>Iris-virginica</td>\n    </tr>\n    <tr>\n      <th>148</th>\n      <td>6.2</td>\n      <td>3.4</td>\n      <td>5.4</td>\n      <td>2.3</td>\n      <td>Iris-virginica</td>\n    </tr>\n    <tr>\n      <th>149</th>\n      <td>5.9</td>\n      <td>3.0</td>\n      <td>5.1</td>\n      <td>1.8</td>\n      <td>Iris-virginica</td>\n    </tr>\n  </tbody>\n</table>\n</div>"
     },
     "execution_count": 3,
     "metadata": {},
     "output_type": "execute_result"
    }
   ],
   "source": [
    "# get the last 5 \n",
    "iris.tail()"
   ],
   "metadata": {
    "collapsed": false,
    "ExecuteTime": {
     "end_time": "2024-01-02T07:17:55.072716300Z",
     "start_time": "2024-01-02T07:17:55.053256100Z"
    }
   },
   "id": "c3fc2d5c4ae3a06c"
  },
  {
   "cell_type": "code",
   "execution_count": 4,
   "outputs": [
    {
     "data": {
      "text/plain": "Index(['sepal_length', 'sepal_width', 'petal_length', 'petal_width', 'target'], dtype='object')"
     },
     "execution_count": 4,
     "metadata": {},
     "output_type": "execute_result"
    }
   ],
   "source": [
    "# print the name of the columns\n",
    "iris.columns"
   ],
   "metadata": {
    "collapsed": false,
    "ExecuteTime": {
     "end_time": "2024-01-02T07:17:55.088470300Z",
     "start_time": "2024-01-02T07:17:55.061862100Z"
    }
   },
   "id": "5362c59f1e10f3eb"
  },
  {
   "cell_type": "code",
   "execution_count": 5,
   "outputs": [
    {
     "data": {
      "text/plain": "0         Iris-setosa\n1         Iris-setosa\n2         Iris-setosa\n3         Iris-setosa\n4         Iris-setosa\n            ...      \n145    Iris-virginica\n146    Iris-virginica\n147    Iris-virginica\n148    Iris-virginica\n149    Iris-virginica\nName: target, Length: 150, dtype: object"
     },
     "execution_count": 5,
     "metadata": {},
     "output_type": "execute_result"
    }
   ],
   "source": [
    "# The result of column is pandas index\n",
    "# get a single column values\n",
    "iris['target']"
   ],
   "metadata": {
    "collapsed": false,
    "ExecuteTime": {
     "end_time": "2024-01-02T07:17:55.185958200Z",
     "start_time": "2024-01-02T07:17:55.076993700Z"
    }
   },
   "id": "1401b39c303c7761"
  },
  {
   "cell_type": "code",
   "execution_count": 6,
   "outputs": [
    {
     "data": {
      "text/plain": "     sepal_length  sepal_width\n0             5.1          3.5\n1             4.9          3.0\n2             4.7          3.2\n3             4.6          3.1\n4             5.0          3.6\n..            ...          ...\n145           6.7          3.0\n146           6.3          2.5\n147           6.5          3.0\n148           6.2          3.4\n149           5.9          3.0\n\n[150 rows x 2 columns]",
      "text/html": "<div>\n<style scoped>\n    .dataframe tbody tr th:only-of-type {\n        vertical-align: middle;\n    }\n\n    .dataframe tbody tr th {\n        vertical-align: top;\n    }\n\n    .dataframe thead th {\n        text-align: right;\n    }\n</style>\n<table border=\"1\" class=\"dataframe\">\n  <thead>\n    <tr style=\"text-align: right;\">\n      <th></th>\n      <th>sepal_length</th>\n      <th>sepal_width</th>\n    </tr>\n  </thead>\n  <tbody>\n    <tr>\n      <th>0</th>\n      <td>5.1</td>\n      <td>3.5</td>\n    </tr>\n    <tr>\n      <th>1</th>\n      <td>4.9</td>\n      <td>3.0</td>\n    </tr>\n    <tr>\n      <th>2</th>\n      <td>4.7</td>\n      <td>3.2</td>\n    </tr>\n    <tr>\n      <th>3</th>\n      <td>4.6</td>\n      <td>3.1</td>\n    </tr>\n    <tr>\n      <th>4</th>\n      <td>5.0</td>\n      <td>3.6</td>\n    </tr>\n    <tr>\n      <th>...</th>\n      <td>...</td>\n      <td>...</td>\n    </tr>\n    <tr>\n      <th>145</th>\n      <td>6.7</td>\n      <td>3.0</td>\n    </tr>\n    <tr>\n      <th>146</th>\n      <td>6.3</td>\n      <td>2.5</td>\n    </tr>\n    <tr>\n      <th>147</th>\n      <td>6.5</td>\n      <td>3.0</td>\n    </tr>\n    <tr>\n      <th>148</th>\n      <td>6.2</td>\n      <td>3.4</td>\n    </tr>\n    <tr>\n      <th>149</th>\n      <td>5.9</td>\n      <td>3.0</td>\n    </tr>\n  </tbody>\n</table>\n<p>150 rows × 2 columns</p>\n</div>"
     },
     "execution_count": 6,
     "metadata": {},
     "output_type": "execute_result"
    }
   ],
   "source": [
    "# or multiple column values\n",
    "iris[['sepal_length','sepal_width']]"
   ],
   "metadata": {
    "collapsed": false,
    "ExecuteTime": {
     "end_time": "2024-01-02T07:17:55.206898200Z",
     "start_time": "2024-01-02T07:17:55.086417500Z"
    }
   },
   "id": "feb45dbabc493fe8"
  },
  {
   "cell_type": "code",
   "execution_count": 7,
   "outputs": [
    {
     "data": {
      "text/plain": "(150, 5)"
     },
     "execution_count": 7,
     "metadata": {},
     "output_type": "execute_result"
    }
   ],
   "source": [
    "# get the data shape (data dimensions)\n",
    "iris.shape"
   ],
   "metadata": {
    "collapsed": false,
    "ExecuteTime": {
     "end_time": "2024-01-02T07:17:55.247126200Z",
     "start_time": "2024-01-02T07:17:55.102917600Z"
    }
   },
   "id": "304110a077eef025"
  },
  {
   "cell_type": "code",
   "execution_count": 8,
   "outputs": [
    {
     "data": {
      "text/plain": "(150,)"
     },
     "execution_count": 8,
     "metadata": {},
     "output_type": "execute_result"
    }
   ],
   "source": [
    "iris['target'].shape"
   ],
   "metadata": {
    "collapsed": false,
    "ExecuteTime": {
     "end_time": "2024-01-02T07:17:55.249216400Z",
     "start_time": "2024-01-02T07:17:55.113971400Z"
    }
   },
   "id": "1ab277b359418278"
  },
  {
   "cell_type": "code",
   "execution_count": 9,
   "outputs": [
    {
     "data": {
      "text/plain": "(150, 2)"
     },
     "execution_count": 9,
     "metadata": {},
     "output_type": "execute_result"
    }
   ],
   "source": [
    "iris[['sepal_length','sepal_width']].shape"
   ],
   "metadata": {
    "collapsed": false,
    "ExecuteTime": {
     "end_time": "2024-01-02T07:17:55.428894Z",
     "start_time": "2024-01-02T07:17:55.125667200Z"
    }
   },
   "id": "844b2b110757a004"
  },
  {
   "cell_type": "markdown",
   "source": [
    "# Dealing with problematic data."
   ],
   "metadata": {
    "collapsed": false
   },
   "id": "13820b8c4c4e785d"
  },
  {
   "cell_type": "code",
   "execution_count": 10,
   "outputs": [
    {
     "data": {
      "text/plain": "       Date  Temperature_city_1  Temperature_city_2  Temperature_city_3  \\\n0  20140910                80.0                32.0                  40   \n1  20140911               100.0                50.0                  36   \n2  20140912               102.0                55.0                  46   \n3  20140912                60.0                20.0                  35   \n4  20140914                60.0                 NaN                  32   \n5  20140914                 NaN                57.0                  42   \n\n   Which_destination  \n0                  1  \n1                  2  \n2                  1  \n3                  3  \n4                  3  \n5                  2  ",
      "text/html": "<div>\n<style scoped>\n    .dataframe tbody tr th:only-of-type {\n        vertical-align: middle;\n    }\n\n    .dataframe tbody tr th {\n        vertical-align: top;\n    }\n\n    .dataframe thead th {\n        text-align: right;\n    }\n</style>\n<table border=\"1\" class=\"dataframe\">\n  <thead>\n    <tr style=\"text-align: right;\">\n      <th></th>\n      <th>Date</th>\n      <th>Temperature_city_1</th>\n      <th>Temperature_city_2</th>\n      <th>Temperature_city_3</th>\n      <th>Which_destination</th>\n    </tr>\n  </thead>\n  <tbody>\n    <tr>\n      <th>0</th>\n      <td>20140910</td>\n      <td>80.0</td>\n      <td>32.0</td>\n      <td>40</td>\n      <td>1</td>\n    </tr>\n    <tr>\n      <th>1</th>\n      <td>20140911</td>\n      <td>100.0</td>\n      <td>50.0</td>\n      <td>36</td>\n      <td>2</td>\n    </tr>\n    <tr>\n      <th>2</th>\n      <td>20140912</td>\n      <td>102.0</td>\n      <td>55.0</td>\n      <td>46</td>\n      <td>1</td>\n    </tr>\n    <tr>\n      <th>3</th>\n      <td>20140912</td>\n      <td>60.0</td>\n      <td>20.0</td>\n      <td>35</td>\n      <td>3</td>\n    </tr>\n    <tr>\n      <th>4</th>\n      <td>20140914</td>\n      <td>60.0</td>\n      <td>NaN</td>\n      <td>32</td>\n      <td>3</td>\n    </tr>\n    <tr>\n      <th>5</th>\n      <td>20140914</td>\n      <td>NaN</td>\n      <td>57.0</td>\n      <td>42</td>\n      <td>2</td>\n    </tr>\n  </tbody>\n</table>\n</div>"
     },
     "execution_count": 10,
     "metadata": {},
     "output_type": "execute_result"
    }
   ],
   "source": [
    "# What happens when CSV has a header and some missing values and dates\n",
    "fake_dataset = pd.read_csv('../../data/a_loading_example_1.csv')\n",
    "fake_dataset"
   ],
   "metadata": {
    "collapsed": false,
    "ExecuteTime": {
     "end_time": "2024-01-02T07:17:55.433045100Z",
     "start_time": "2024-01-02T07:17:55.133394800Z"
    }
   },
   "id": "acc25de1688d05ab"
  },
  {
   "cell_type": "code",
   "execution_count": 11,
   "outputs": [
    {
     "data": {
      "text/plain": "        Date  Temperature_city_1  Temperature_city_2  Temperature_city_3  \\\n0 2014-09-10                80.0                32.0                  40   \n1 2014-09-11               100.0                50.0                  36   \n2 2014-09-12               102.0                55.0                  46   \n3 2014-09-12                60.0                20.0                  35   \n4 2014-09-14                60.0                 NaN                  32   \n5 2014-09-14                 NaN                57.0                  42   \n\n   Which_destination  \n0                  1  \n1                  2  \n2                  1  \n3                  3  \n4                  3  \n5                  2  ",
      "text/html": "<div>\n<style scoped>\n    .dataframe tbody tr th:only-of-type {\n        vertical-align: middle;\n    }\n\n    .dataframe tbody tr th {\n        vertical-align: top;\n    }\n\n    .dataframe thead th {\n        text-align: right;\n    }\n</style>\n<table border=\"1\" class=\"dataframe\">\n  <thead>\n    <tr style=\"text-align: right;\">\n      <th></th>\n      <th>Date</th>\n      <th>Temperature_city_1</th>\n      <th>Temperature_city_2</th>\n      <th>Temperature_city_3</th>\n      <th>Which_destination</th>\n    </tr>\n  </thead>\n  <tbody>\n    <tr>\n      <th>0</th>\n      <td>2014-09-10</td>\n      <td>80.0</td>\n      <td>32.0</td>\n      <td>40</td>\n      <td>1</td>\n    </tr>\n    <tr>\n      <th>1</th>\n      <td>2014-09-11</td>\n      <td>100.0</td>\n      <td>50.0</td>\n      <td>36</td>\n      <td>2</td>\n    </tr>\n    <tr>\n      <th>2</th>\n      <td>2014-09-12</td>\n      <td>102.0</td>\n      <td>55.0</td>\n      <td>46</td>\n      <td>1</td>\n    </tr>\n    <tr>\n      <th>3</th>\n      <td>2014-09-12</td>\n      <td>60.0</td>\n      <td>20.0</td>\n      <td>35</td>\n      <td>3</td>\n    </tr>\n    <tr>\n      <th>4</th>\n      <td>2014-09-14</td>\n      <td>60.0</td>\n      <td>NaN</td>\n      <td>32</td>\n      <td>3</td>\n    </tr>\n    <tr>\n      <th>5</th>\n      <td>2014-09-14</td>\n      <td>NaN</td>\n      <td>57.0</td>\n      <td>42</td>\n      <td>2</td>\n    </tr>\n  </tbody>\n</table>\n</div>"
     },
     "execution_count": 11,
     "metadata": {},
     "output_type": "execute_result"
    }
   ],
   "source": [
    "# Autodetect date columns and load it correctly\n",
    "fake_dataset = pd.read_csv('../../data/a_loading_example_1.csv',parse_dates=[0])\n",
    "fake_dataset"
   ],
   "metadata": {
    "collapsed": false,
    "ExecuteTime": {
     "end_time": "2024-01-02T07:17:55.456202Z",
     "start_time": "2024-01-02T07:17:55.153025400Z"
    }
   },
   "id": "9a722c476a334311"
  },
  {
   "cell_type": "code",
   "execution_count": 12,
   "outputs": [
    {
     "data": {
      "text/plain": "        Date  Temperature_city_1  Temperature_city_2  Temperature_city_3  \\\n0 2014-09-10                80.0                32.0                  40   \n1 2014-09-11               100.0                50.0                  36   \n2 2014-09-12               102.0                55.0                  46   \n3 2014-09-12                60.0                20.0                  35   \n4 2014-09-14                60.0                50.0                  32   \n5 2014-09-14                50.0                57.0                  42   \n\n   Which_destination  \n0                  1  \n1                  2  \n2                  1  \n3                  3  \n4                  3  \n5                  2  ",
      "text/html": "<div>\n<style scoped>\n    .dataframe tbody tr th:only-of-type {\n        vertical-align: middle;\n    }\n\n    .dataframe tbody tr th {\n        vertical-align: top;\n    }\n\n    .dataframe thead th {\n        text-align: right;\n    }\n</style>\n<table border=\"1\" class=\"dataframe\">\n  <thead>\n    <tr style=\"text-align: right;\">\n      <th></th>\n      <th>Date</th>\n      <th>Temperature_city_1</th>\n      <th>Temperature_city_2</th>\n      <th>Temperature_city_3</th>\n      <th>Which_destination</th>\n    </tr>\n  </thead>\n  <tbody>\n    <tr>\n      <th>0</th>\n      <td>2014-09-10</td>\n      <td>80.0</td>\n      <td>32.0</td>\n      <td>40</td>\n      <td>1</td>\n    </tr>\n    <tr>\n      <th>1</th>\n      <td>2014-09-11</td>\n      <td>100.0</td>\n      <td>50.0</td>\n      <td>36</td>\n      <td>2</td>\n    </tr>\n    <tr>\n      <th>2</th>\n      <td>2014-09-12</td>\n      <td>102.0</td>\n      <td>55.0</td>\n      <td>46</td>\n      <td>1</td>\n    </tr>\n    <tr>\n      <th>3</th>\n      <td>2014-09-12</td>\n      <td>60.0</td>\n      <td>20.0</td>\n      <td>35</td>\n      <td>3</td>\n    </tr>\n    <tr>\n      <th>4</th>\n      <td>2014-09-14</td>\n      <td>60.0</td>\n      <td>50.0</td>\n      <td>32</td>\n      <td>3</td>\n    </tr>\n    <tr>\n      <th>5</th>\n      <td>2014-09-14</td>\n      <td>50.0</td>\n      <td>57.0</td>\n      <td>42</td>\n      <td>2</td>\n    </tr>\n  </tbody>\n</table>\n</div>"
     },
     "execution_count": 12,
     "metadata": {},
     "output_type": "execute_result"
    }
   ],
   "source": [
    "# Fill missing values with a number let's say  50\n",
    "# in real data this value must be realistic.\n",
    "fake_dataset.fillna(50)"
   ],
   "metadata": {
    "collapsed": false,
    "ExecuteTime": {
     "end_time": "2024-01-02T07:17:55.469801400Z",
     "start_time": "2024-01-02T07:17:55.176381400Z"
    }
   },
   "id": "a5b9200ae4d0c8d2"
  },
  {
   "cell_type": "code",
   "execution_count": 13,
   "outputs": [
    {
     "data": {
      "text/plain": "        Date  Temperature_city_1  Temperature_city_2  Temperature_city_3  \\\n0 2014-09-10                80.0                32.0                  40   \n1 2014-09-11               100.0                50.0                  36   \n2 2014-09-12               102.0                55.0                  46   \n3 2014-09-12                60.0                20.0                  35   \n4 2014-09-14                60.0                42.8                  32   \n5 2014-09-14                80.4                57.0                  42   \n\n   Which_destination  \n0                  1  \n1                  2  \n2                  1  \n3                  3  \n4                  3  \n5                  2  ",
      "text/html": "<div>\n<style scoped>\n    .dataframe tbody tr th:only-of-type {\n        vertical-align: middle;\n    }\n\n    .dataframe tbody tr th {\n        vertical-align: top;\n    }\n\n    .dataframe thead th {\n        text-align: right;\n    }\n</style>\n<table border=\"1\" class=\"dataframe\">\n  <thead>\n    <tr style=\"text-align: right;\">\n      <th></th>\n      <th>Date</th>\n      <th>Temperature_city_1</th>\n      <th>Temperature_city_2</th>\n      <th>Temperature_city_3</th>\n      <th>Which_destination</th>\n    </tr>\n  </thead>\n  <tbody>\n    <tr>\n      <th>0</th>\n      <td>2014-09-10</td>\n      <td>80.0</td>\n      <td>32.0</td>\n      <td>40</td>\n      <td>1</td>\n    </tr>\n    <tr>\n      <th>1</th>\n      <td>2014-09-11</td>\n      <td>100.0</td>\n      <td>50.0</td>\n      <td>36</td>\n      <td>2</td>\n    </tr>\n    <tr>\n      <th>2</th>\n      <td>2014-09-12</td>\n      <td>102.0</td>\n      <td>55.0</td>\n      <td>46</td>\n      <td>1</td>\n    </tr>\n    <tr>\n      <th>3</th>\n      <td>2014-09-12</td>\n      <td>60.0</td>\n      <td>20.0</td>\n      <td>35</td>\n      <td>3</td>\n    </tr>\n    <tr>\n      <th>4</th>\n      <td>2014-09-14</td>\n      <td>60.0</td>\n      <td>42.8</td>\n      <td>32</td>\n      <td>3</td>\n    </tr>\n    <tr>\n      <th>5</th>\n      <td>2014-09-14</td>\n      <td>80.4</td>\n      <td>57.0</td>\n      <td>42</td>\n      <td>2</td>\n    </tr>\n  </tbody>\n</table>\n</div>"
     },
     "execution_count": 13,
     "metadata": {},
     "output_type": "execute_result"
    }
   ],
   "source": [
    "# Replace with mean for the data.\n",
    "# axis= 0 means row wise\n",
    "# axis =1 means column wise\n",
    "fake_dataset.fillna(fake_dataset.mean(axis=0),inplace=True)\n",
    "fake_dataset"
   ],
   "metadata": {
    "collapsed": false,
    "ExecuteTime": {
     "end_time": "2024-01-02T07:17:55.480834900Z",
     "start_time": "2024-01-02T07:17:55.191096200Z"
    }
   },
   "id": "106eafe750284ba0"
  },
  {
   "cell_type": "code",
   "execution_count": 14,
   "outputs": [
    {
     "ename": "TypeError",
     "evalue": "read_csv() got an unexpected keyword argument 'error_bad_lines'",
     "output_type": "error",
     "traceback": [
      "\u001B[1;31m---------------------------------------------------------------------------\u001B[0m",
      "\u001B[1;31mTypeError\u001B[0m                                 Traceback (most recent call last)",
      "Cell \u001B[1;32mIn[14], line 2\u001B[0m\n\u001B[0;32m      1\u001B[0m \u001B[38;5;66;03m# Loading bad dataset, ignore the bad data\u001B[39;00m\n\u001B[1;32m----> 2\u001B[0m bad_dataset \u001B[38;5;241m=\u001B[39m \u001B[43mpd\u001B[49m\u001B[38;5;241;43m.\u001B[39;49m\u001B[43mread_csv\u001B[49m\u001B[43m(\u001B[49m\u001B[38;5;124;43m'\u001B[39;49m\u001B[38;5;124;43m../../data/a_loading_example_2.csv\u001B[39;49m\u001B[38;5;124;43m'\u001B[39;49m\u001B[43m,\u001B[49m\u001B[43merror_bad_lines\u001B[49m\u001B[38;5;241;43m=\u001B[39;49m\u001B[38;5;28;43;01mFalse\u001B[39;49;00m\u001B[43m)\u001B[49m\n\u001B[0;32m      3\u001B[0m bad_dataset\n",
      "\u001B[1;31mTypeError\u001B[0m: read_csv() got an unexpected keyword argument 'error_bad_lines'"
     ]
    }
   ],
   "source": [
    "# Loading bad dataset, ignore the bad data\n",
    "bad_dataset = pd.read_csv('../../data/a_loading_example_2.csv',error_bad_lines=False)\n",
    "bad_dataset"
   ],
   "metadata": {
    "collapsed": false,
    "ExecuteTime": {
     "end_time": "2024-01-02T07:17:55.883863700Z",
     "start_time": "2024-01-02T07:17:55.211125700Z"
    }
   },
   "id": "c7b4650e4a46b90e"
  },
  {
   "cell_type": "markdown",
   "source": [
    "# Dealing with big datasets"
   ],
   "metadata": {
    "collapsed": false
   },
   "id": "6584557044669053"
  },
  {
   "cell_type": "code",
   "execution_count": 15,
   "outputs": [
    {
     "name": "stdout",
     "output_type": "stream",
     "text": [
      "shape: (10, 5)\n",
      "    c1   c2   c3   c4           c5\n",
      "0  5.1  3.5  1.4  0.2  Iris-setosa\n",
      "1  4.9  3.0  1.4  0.2  Iris-setosa\n",
      "2  4.7  3.2  1.3  0.2  Iris-setosa\n",
      "3  4.6  3.1  1.5  0.2  Iris-setosa\n",
      "4  5.0  3.6  1.4  0.2  Iris-setosa\n",
      "5  5.4  3.9  1.7  0.4  Iris-setosa\n",
      "6  4.6  3.4  1.4  0.3  Iris-setosa\n",
      "7  5.0  3.4  1.5  0.2  Iris-setosa\n",
      "8  4.4  2.9  1.4  0.2  Iris-setosa\n",
      "9  4.9  3.1  1.5  0.1  Iris-setosa n\n",
      "shape: (10, 5)\n",
      "     c1   c2   c3   c4           c5\n",
      "10  5.4  3.7  1.5  0.2  Iris-setosa\n",
      "11  4.8  3.4  1.6  0.2  Iris-setosa\n",
      "12  4.8  3.0  1.4  0.1  Iris-setosa\n",
      "13  4.3  3.0  1.1  0.1  Iris-setosa\n",
      "14  5.8  4.0  1.2  0.2  Iris-setosa\n",
      "15  5.7  4.4  1.5  0.4  Iris-setosa\n",
      "16  5.4  3.9  1.3  0.4  Iris-setosa\n",
      "17  5.1  3.5  1.4  0.3  Iris-setosa\n",
      "18  5.7  3.8  1.7  0.3  Iris-setosa\n",
      "19  5.1  3.8  1.5  0.3  Iris-setosa n\n",
      "shape: (10, 5)\n",
      "     c1   c2   c3   c4           c5\n",
      "20  5.4  3.4  1.7  0.2  Iris-setosa\n",
      "21  5.1  3.7  1.5  0.4  Iris-setosa\n",
      "22  4.6  3.6  1.0  0.2  Iris-setosa\n",
      "23  5.1  3.3  1.7  0.5  Iris-setosa\n",
      "24  4.8  3.4  1.9  0.2  Iris-setosa\n",
      "25  5.0  3.0  1.6  0.2  Iris-setosa\n",
      "26  5.0  3.4  1.6  0.4  Iris-setosa\n",
      "27  5.2  3.5  1.5  0.2  Iris-setosa\n",
      "28  5.2  3.4  1.4  0.2  Iris-setosa\n",
      "29  4.7  3.2  1.6  0.2  Iris-setosa n\n",
      "shape: (10, 5)\n",
      "     c1   c2   c3   c4           c5\n",
      "30  4.8  3.1  1.6  0.2  Iris-setosa\n",
      "31  5.4  3.4  1.5  0.4  Iris-setosa\n",
      "32  5.2  4.1  1.5  0.1  Iris-setosa\n",
      "33  5.5  4.2  1.4  0.2  Iris-setosa\n",
      "34  4.9  3.1  1.5  0.1  Iris-setosa\n",
      "35  5.0  3.2  1.2  0.2  Iris-setosa\n",
      "36  5.5  3.5  1.3  0.2  Iris-setosa\n",
      "37  4.9  3.1  1.5  0.1  Iris-setosa\n",
      "38  4.4  3.0  1.3  0.2  Iris-setosa\n",
      "39  5.1  3.4  1.5  0.2  Iris-setosa n\n",
      "shape: (10, 5)\n",
      "     c1   c2   c3   c4           c5\n",
      "40  5.0  3.5  1.3  0.3  Iris-setosa\n",
      "41  4.5  2.3  1.3  0.3  Iris-setosa\n",
      "42  4.4  3.2  1.3  0.2  Iris-setosa\n",
      "43  5.0  3.5  1.6  0.6  Iris-setosa\n",
      "44  5.1  3.8  1.9  0.4  Iris-setosa\n",
      "45  4.8  3.0  1.4  0.3  Iris-setosa\n",
      "46  5.1  3.8  1.6  0.2  Iris-setosa\n",
      "47  4.6  3.2  1.4  0.2  Iris-setosa\n",
      "48  5.3  3.7  1.5  0.2  Iris-setosa\n",
      "49  5.0  3.3  1.4  0.2  Iris-setosa n\n",
      "shape: (10, 5)\n",
      "     c1   c2   c3   c4               c5\n",
      "50  7.0  3.2  4.7  1.4  Iris-versicolor\n",
      "51  6.4  3.2  4.5  1.5  Iris-versicolor\n",
      "52  6.9  3.1  4.9  1.5  Iris-versicolor\n",
      "53  5.5  2.3  4.0  1.3  Iris-versicolor\n",
      "54  6.5  2.8  4.6  1.5  Iris-versicolor\n",
      "55  5.7  2.8  4.5  1.3  Iris-versicolor\n",
      "56  6.3  3.3  4.7  1.6  Iris-versicolor\n",
      "57  4.9  2.4  3.3  1.0  Iris-versicolor\n",
      "58  6.6  2.9  4.6  1.3  Iris-versicolor\n",
      "59  5.2  2.7  3.9  1.4  Iris-versicolor n\n",
      "shape: (10, 5)\n",
      "     c1   c2   c3   c4               c5\n",
      "60  5.0  2.0  3.5  1.0  Iris-versicolor\n",
      "61  5.9  3.0  4.2  1.5  Iris-versicolor\n",
      "62  6.0  2.2  4.0  1.0  Iris-versicolor\n",
      "63  6.1  2.9  4.7  1.4  Iris-versicolor\n",
      "64  5.6  2.9  3.6  1.3  Iris-versicolor\n",
      "65  6.7  3.1  4.4  1.4  Iris-versicolor\n",
      "66  5.6  3.0  4.5  1.5  Iris-versicolor\n",
      "67  5.8  2.7  4.1  1.0  Iris-versicolor\n",
      "68  6.2  2.2  4.5  1.5  Iris-versicolor\n",
      "69  5.6  2.5  3.9  1.1  Iris-versicolor n\n",
      "shape: (10, 5)\n",
      "     c1   c2   c3   c4               c5\n",
      "70  5.9  3.2  4.8  1.8  Iris-versicolor\n",
      "71  6.1  2.8  4.0  1.3  Iris-versicolor\n",
      "72  6.3  2.5  4.9  1.5  Iris-versicolor\n",
      "73  6.1  2.8  4.7  1.2  Iris-versicolor\n",
      "74  6.4  2.9  4.3  1.3  Iris-versicolor\n",
      "75  6.6  3.0  4.4  1.4  Iris-versicolor\n",
      "76  6.8  2.8  4.8  1.4  Iris-versicolor\n",
      "77  6.7  3.0  5.0  1.7  Iris-versicolor\n",
      "78  6.0  2.9  4.5  1.5  Iris-versicolor\n",
      "79  5.7  2.6  3.5  1.0  Iris-versicolor n\n",
      "shape: (10, 5)\n",
      "     c1   c2   c3   c4               c5\n",
      "80  5.5  2.4  3.8  1.1  Iris-versicolor\n",
      "81  5.5  2.4  3.7  1.0  Iris-versicolor\n",
      "82  5.8  2.7  3.9  1.2  Iris-versicolor\n",
      "83  6.0  2.7  5.1  1.6  Iris-versicolor\n",
      "84  5.4  3.0  4.5  1.5  Iris-versicolor\n",
      "85  6.0  3.4  4.5  1.6  Iris-versicolor\n",
      "86  6.7  3.1  4.7  1.5  Iris-versicolor\n",
      "87  6.3  2.3  4.4  1.3  Iris-versicolor\n",
      "88  5.6  3.0  4.1  1.3  Iris-versicolor\n",
      "89  5.5  2.5  4.0  1.3  Iris-versicolor n\n",
      "shape: (10, 5)\n",
      "     c1   c2   c3   c4               c5\n",
      "90  5.5  2.6  4.4  1.2  Iris-versicolor\n",
      "91  6.1  3.0  4.6  1.4  Iris-versicolor\n",
      "92  5.8  2.6  4.0  1.2  Iris-versicolor\n",
      "93  5.0  2.3  3.3  1.0  Iris-versicolor\n",
      "94  5.6  2.7  4.2  1.3  Iris-versicolor\n",
      "95  5.7  3.0  4.2  1.2  Iris-versicolor\n",
      "96  5.7  2.9  4.2  1.3  Iris-versicolor\n",
      "97  6.2  2.9  4.3  1.3  Iris-versicolor\n",
      "98  5.1  2.5  3.0  1.1  Iris-versicolor\n",
      "99  5.7  2.8  4.1  1.3  Iris-versicolor n\n",
      "shape: (10, 5)\n",
      "      c1   c2   c3   c4              c5\n",
      "100  6.3  3.3  6.0  2.5  Iris-virginica\n",
      "101  5.8  2.7  5.1  1.9  Iris-virginica\n",
      "102  7.1  3.0  5.9  2.1  Iris-virginica\n",
      "103  6.3  2.9  5.6  1.8  Iris-virginica\n",
      "104  6.5  3.0  5.8  2.2  Iris-virginica\n",
      "105  7.6  3.0  6.6  2.1  Iris-virginica\n",
      "106  4.9  2.5  4.5  1.7  Iris-virginica\n",
      "107  7.3  2.9  6.3  1.8  Iris-virginica\n",
      "108  6.7  2.5  5.8  1.8  Iris-virginica\n",
      "109  7.2  3.6  6.1  2.5  Iris-virginica n\n",
      "shape: (10, 5)\n",
      "      c1   c2   c3   c4              c5\n",
      "110  6.5  3.2  5.1  2.0  Iris-virginica\n",
      "111  6.4  2.7  5.3  1.9  Iris-virginica\n",
      "112  6.8  3.0  5.5  2.1  Iris-virginica\n",
      "113  5.7  2.5  5.0  2.0  Iris-virginica\n",
      "114  5.8  2.8  5.1  2.4  Iris-virginica\n",
      "115  6.4  3.2  5.3  2.3  Iris-virginica\n",
      "116  6.5  3.0  5.5  1.8  Iris-virginica\n",
      "117  7.7  3.8  6.7  2.2  Iris-virginica\n",
      "118  7.7  2.6  6.9  2.3  Iris-virginica\n",
      "119  6.0  2.2  5.0  1.5  Iris-virginica n\n",
      "shape: (10, 5)\n",
      "      c1   c2   c3   c4              c5\n",
      "120  6.9  3.2  5.7  2.3  Iris-virginica\n",
      "121  5.6  2.8  4.9  2.0  Iris-virginica\n",
      "122  7.7  2.8  6.7  2.0  Iris-virginica\n",
      "123  6.3  2.7  4.9  1.8  Iris-virginica\n",
      "124  6.7  3.3  5.7  2.1  Iris-virginica\n",
      "125  7.2  3.2  6.0  1.8  Iris-virginica\n",
      "126  6.2  2.8  4.8  1.8  Iris-virginica\n",
      "127  6.1  3.0  4.9  1.8  Iris-virginica\n",
      "128  6.4  2.8  5.6  2.1  Iris-virginica\n",
      "129  7.2  3.0  5.8  1.6  Iris-virginica n\n",
      "shape: (10, 5)\n",
      "      c1   c2   c3   c4              c5\n",
      "130  7.4  2.8  6.1  1.9  Iris-virginica\n",
      "131  7.9  3.8  6.4  2.0  Iris-virginica\n",
      "132  6.4  2.8  5.6  2.2  Iris-virginica\n",
      "133  6.3  2.8  5.1  1.5  Iris-virginica\n",
      "134  6.1  2.6  5.6  1.4  Iris-virginica\n",
      "135  7.7  3.0  6.1  2.3  Iris-virginica\n",
      "136  6.3  3.4  5.6  2.4  Iris-virginica\n",
      "137  6.4  3.1  5.5  1.8  Iris-virginica\n",
      "138  6.0  3.0  4.8  1.8  Iris-virginica\n",
      "139  6.9  3.1  5.4  2.1  Iris-virginica n\n",
      "shape: (10, 5)\n",
      "      c1   c2   c3   c4              c5\n",
      "140  6.7  3.1  5.6  2.4  Iris-virginica\n",
      "141  6.9  3.1  5.1  2.3  Iris-virginica\n",
      "142  5.8  2.7  5.1  1.9  Iris-virginica\n",
      "143  6.8  3.2  5.9  2.3  Iris-virginica\n",
      "144  6.7  3.3  5.7  2.5  Iris-virginica\n",
      "145  6.7  3.0  5.2  2.3  Iris-virginica\n",
      "146  6.3  2.5  5.0  1.9  Iris-virginica\n",
      "147  6.5  3.0  5.2  2.0  Iris-virginica\n",
      "148  6.2  3.4  5.4  2.3  Iris-virginica\n",
      "149  5.9  3.0  5.1  1.8  Iris-virginica n\n"
     ]
    }
   ],
   "source": [
    "iris_chunks = pd.read_csv(iris_filename,header=None,names=['c1','c2','c3','c4','c5'],chunksize=10)\n",
    "for chunk in iris_chunks:\n",
    "    print('shape:',chunk.shape)\n",
    "    print(chunk,'n')"
   ],
   "metadata": {
    "collapsed": false,
    "ExecuteTime": {
     "end_time": "2024-01-02T07:25:53.729786600Z",
     "start_time": "2024-01-02T07:25:53.655162500Z"
    }
   },
   "id": "19f3994c95a8c37e"
  },
  {
   "cell_type": "code",
   "execution_count": 16,
   "outputs": [
    {
     "data": {
      "text/plain": "(10, 5)"
     },
     "execution_count": 16,
     "metadata": {},
     "output_type": "execute_result"
    }
   ],
   "source": [
    "# Get dataset iterator\n",
    "iris_iterator = pd.read_csv(iris_filename,header=None,names=['c1','c2','c3','c4','c5'],iterator=True)\n",
    "iris_iterator.get_chunk(10).shape"
   ],
   "metadata": {
    "collapsed": false,
    "ExecuteTime": {
     "end_time": "2024-01-02T07:27:44.465610Z",
     "start_time": "2024-01-02T07:27:44.441770400Z"
    }
   },
   "id": "10a3784790ac4275"
  },
  {
   "cell_type": "code",
   "execution_count": 17,
   "outputs": [
    {
     "data": {
      "text/plain": "(5, 5)"
     },
     "execution_count": 17,
     "metadata": {},
     "output_type": "execute_result"
    }
   ],
   "source": [
    "iris_iterator.get_chunk(5).shape"
   ],
   "metadata": {
    "collapsed": false,
    "ExecuteTime": {
     "end_time": "2024-01-02T07:28:04.333103400Z",
     "start_time": "2024-01-02T07:28:04.306252100Z"
    }
   },
   "id": "4703483ed301dcde"
  },
  {
   "cell_type": "code",
   "execution_count": 18,
   "outputs": [
    {
     "data": {
      "text/plain": "     c1   c2   c3   c4           c5\n15  5.7  4.4  1.5  0.4  Iris-setosa\n16  5.4  3.9  1.3  0.4  Iris-setosa\n17  5.1  3.5  1.4  0.3  Iris-setosa",
      "text/html": "<div>\n<style scoped>\n    .dataframe tbody tr th:only-of-type {\n        vertical-align: middle;\n    }\n\n    .dataframe tbody tr th {\n        vertical-align: top;\n    }\n\n    .dataframe thead th {\n        text-align: right;\n    }\n</style>\n<table border=\"1\" class=\"dataframe\">\n  <thead>\n    <tr style=\"text-align: right;\">\n      <th></th>\n      <th>c1</th>\n      <th>c2</th>\n      <th>c3</th>\n      <th>c4</th>\n      <th>c5</th>\n    </tr>\n  </thead>\n  <tbody>\n    <tr>\n      <th>15</th>\n      <td>5.7</td>\n      <td>4.4</td>\n      <td>1.5</td>\n      <td>0.4</td>\n      <td>Iris-setosa</td>\n    </tr>\n    <tr>\n      <th>16</th>\n      <td>5.4</td>\n      <td>3.9</td>\n      <td>1.3</td>\n      <td>0.4</td>\n      <td>Iris-setosa</td>\n    </tr>\n    <tr>\n      <th>17</th>\n      <td>5.1</td>\n      <td>3.5</td>\n      <td>1.4</td>\n      <td>0.3</td>\n      <td>Iris-setosa</td>\n    </tr>\n  </tbody>\n</table>\n</div>"
     },
     "execution_count": 18,
     "metadata": {},
     "output_type": "execute_result"
    }
   ],
   "source": [
    "piece = iris_iterator.get_chunk(3)\n",
    "piece"
   ],
   "metadata": {
    "collapsed": false,
    "ExecuteTime": {
     "end_time": "2024-01-02T07:28:51.755575400Z",
     "start_time": "2024-01-02T07:28:51.721994Z"
    }
   },
   "id": "1667835f08dfc5ea"
  },
  {
   "cell_type": "code",
   "execution_count": null,
   "outputs": [],
   "source": [],
   "metadata": {
    "collapsed": false
   },
   "id": "74f438ff9686e1f8"
  }
 ],
 "metadata": {
  "kernelspec": {
   "display_name": "Python 3",
   "language": "python",
   "name": "python3"
  },
  "language_info": {
   "codemirror_mode": {
    "name": "ipython",
    "version": 2
   },
   "file_extension": ".py",
   "mimetype": "text/x-python",
   "name": "python",
   "nbconvert_exporter": "python",
   "pygments_lexer": "ipython2",
   "version": "2.7.6"
  }
 },
 "nbformat": 4,
 "nbformat_minor": 5
}
