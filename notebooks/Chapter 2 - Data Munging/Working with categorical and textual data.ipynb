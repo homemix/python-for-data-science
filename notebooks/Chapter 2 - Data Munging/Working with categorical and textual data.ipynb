{
 "cells": [
  {
   "cell_type": "markdown",
   "source": [
    "# Working with categorical and textual data"
   ],
   "metadata": {
    "collapsed": false
   },
   "id": "444c68e3e0b0a6ee"
  },
  {
   "cell_type": "code",
   "execution_count": 1,
   "outputs": [],
   "source": [
    "import pandas as pd"
   ],
   "metadata": {
    "collapsed": false,
    "ExecuteTime": {
     "end_time": "2024-01-03T14:24:57.950424500Z",
     "start_time": "2024-01-03T14:24:55.833807200Z"
    }
   },
   "id": "77110c307d9f4303"
  },
  {
   "cell_type": "code",
   "execution_count": 3,
   "outputs": [
    {
     "data": {
      "text/plain": "   cloudy  foggy  rainy  sunny\n0   False  False  False   True\n1    True  False  False  False\n2   False  False   True  False\n3   False   True  False  False",
      "text/html": "<div>\n<style scoped>\n    .dataframe tbody tr th:only-of-type {\n        vertical-align: middle;\n    }\n\n    .dataframe tbody tr th {\n        vertical-align: top;\n    }\n\n    .dataframe thead th {\n        text-align: right;\n    }\n</style>\n<table border=\"1\" class=\"dataframe\">\n  <thead>\n    <tr style=\"text-align: right;\">\n      <th></th>\n      <th>cloudy</th>\n      <th>foggy</th>\n      <th>rainy</th>\n      <th>sunny</th>\n    </tr>\n  </thead>\n  <tbody>\n    <tr>\n      <th>0</th>\n      <td>False</td>\n      <td>False</td>\n      <td>False</td>\n      <td>True</td>\n    </tr>\n    <tr>\n      <th>1</th>\n      <td>True</td>\n      <td>False</td>\n      <td>False</td>\n      <td>False</td>\n    </tr>\n    <tr>\n      <th>2</th>\n      <td>False</td>\n      <td>False</td>\n      <td>True</td>\n      <td>False</td>\n    </tr>\n    <tr>\n      <th>3</th>\n      <td>False</td>\n      <td>True</td>\n      <td>False</td>\n      <td>False</td>\n    </tr>\n  </tbody>\n</table>\n</div>"
     },
     "execution_count": 3,
     "metadata": {},
     "output_type": "execute_result"
    }
   ],
   "source": [
    "# # mapping categorical data into numerical\n",
    "categorical_feature = pd.Series(\n",
    "    ['sunny', 'cloudy', 'rainy', 'foggy']\n",
    ")\n",
    "mapping = pd.get_dummies(categorical_feature)\n",
    "mapping"
   ],
   "metadata": {
    "collapsed": false,
    "ExecuteTime": {
     "end_time": "2024-01-03T14:27:53.405654600Z",
     "start_time": "2024-01-03T14:27:53.383900900Z"
    }
   },
   "id": "615dde8cfa366da0"
  },
  {
   "cell_type": "code",
   "execution_count": 4,
   "outputs": [
    {
     "data": {
      "text/plain": "0     True\n1    False\n2    False\n3    False\nName: sunny, dtype: bool"
     },
     "execution_count": 4,
     "metadata": {},
     "output_type": "execute_result"
    }
   ],
   "source": [
    "mapping['sunny']"
   ],
   "metadata": {
    "collapsed": false,
    "ExecuteTime": {
     "end_time": "2024-01-03T14:28:24.666333800Z",
     "start_time": "2024-01-03T14:28:24.654555900Z"
    }
   },
   "id": "5e59caac6c936ad8"
  },
  {
   "cell_type": "markdown",
   "source": [
    "# A special type of data - text"
   ],
   "metadata": {
    "collapsed": false
   },
   "id": "aa7b400deb0ddb6e"
  },
  {
   "cell_type": "code",
   "execution_count": null,
   "outputs": [],
   "source": [],
   "metadata": {
    "collapsed": false
   },
   "id": "b3bca9201b0bb8c"
  }
 ],
 "metadata": {
  "kernelspec": {
   "display_name": "Python 3",
   "language": "python",
   "name": "python3"
  },
  "language_info": {
   "codemirror_mode": {
    "name": "ipython",
    "version": 2
   },
   "file_extension": ".py",
   "mimetype": "text/x-python",
   "name": "python",
   "nbconvert_exporter": "python",
   "pygments_lexer": "ipython2",
   "version": "2.7.6"
  }
 },
 "nbformat": 4,
 "nbformat_minor": 5
}
