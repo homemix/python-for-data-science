{
 "cells": [
  {
   "cell_type": "markdown",
   "source": [
    "# Working with categorical and textual data"
   ],
   "metadata": {
    "collapsed": false
   },
   "id": "444c68e3e0b0a6ee"
  },
  {
   "cell_type": "code",
   "execution_count": 1,
   "outputs": [],
   "source": [
    "import pandas as pd"
   ],
   "metadata": {
    "collapsed": false,
    "ExecuteTime": {
     "end_time": "2024-01-04T03:14:54.592983800Z",
     "start_time": "2024-01-04T03:14:50.773935600Z"
    }
   },
   "id": "77110c307d9f4303"
  },
  {
   "cell_type": "code",
   "execution_count": 2,
   "outputs": [
    {
     "data": {
      "text/plain": "   cloudy  foggy  rainy  sunny\n0   False  False  False   True\n1    True  False  False  False\n2   False  False   True  False\n3   False   True  False  False",
      "text/html": "<div>\n<style scoped>\n    .dataframe tbody tr th:only-of-type {\n        vertical-align: middle;\n    }\n\n    .dataframe tbody tr th {\n        vertical-align: top;\n    }\n\n    .dataframe thead th {\n        text-align: right;\n    }\n</style>\n<table border=\"1\" class=\"dataframe\">\n  <thead>\n    <tr style=\"text-align: right;\">\n      <th></th>\n      <th>cloudy</th>\n      <th>foggy</th>\n      <th>rainy</th>\n      <th>sunny</th>\n    </tr>\n  </thead>\n  <tbody>\n    <tr>\n      <th>0</th>\n      <td>False</td>\n      <td>False</td>\n      <td>False</td>\n      <td>True</td>\n    </tr>\n    <tr>\n      <th>1</th>\n      <td>True</td>\n      <td>False</td>\n      <td>False</td>\n      <td>False</td>\n    </tr>\n    <tr>\n      <th>2</th>\n      <td>False</td>\n      <td>False</td>\n      <td>True</td>\n      <td>False</td>\n    </tr>\n    <tr>\n      <th>3</th>\n      <td>False</td>\n      <td>True</td>\n      <td>False</td>\n      <td>False</td>\n    </tr>\n  </tbody>\n</table>\n</div>"
     },
     "execution_count": 2,
     "metadata": {},
     "output_type": "execute_result"
    }
   ],
   "source": [
    "# # mapping categorical data into numerical\n",
    "categorical_feature = pd.Series(\n",
    "    ['sunny', 'cloudy', 'rainy', 'foggy']\n",
    ")\n",
    "mapping = pd.get_dummies(categorical_feature)\n",
    "mapping"
   ],
   "metadata": {
    "collapsed": false,
    "ExecuteTime": {
     "end_time": "2024-01-04T03:14:54.660466200Z",
     "start_time": "2024-01-04T03:14:54.592983800Z"
    }
   },
   "id": "615dde8cfa366da0"
  },
  {
   "cell_type": "code",
   "execution_count": 3,
   "outputs": [
    {
     "data": {
      "text/plain": "0     True\n1    False\n2    False\n3    False\nName: sunny, dtype: bool"
     },
     "execution_count": 3,
     "metadata": {},
     "output_type": "execute_result"
    }
   ],
   "source": [
    "mapping['sunny']"
   ],
   "metadata": {
    "collapsed": false,
    "ExecuteTime": {
     "end_time": "2024-01-04T03:14:54.662539600Z",
     "start_time": "2024-01-04T03:14:54.637429Z"
    }
   },
   "id": "5e59caac6c936ad8"
  },
  {
   "cell_type": "markdown",
   "source": [
    "# A special type of data - text"
   ],
   "metadata": {
    "collapsed": false
   },
   "id": "aa7b400deb0ddb6e"
  },
  {
   "cell_type": "code",
   "execution_count": 5,
   "outputs": [
    {
     "data": {
      "text/plain": "'From: flb@flb.optiplan.fi (\"F.Baube[tm]\")\\nSubject: Vandalizing the sky\\nX-Added: Forwarded by Space Digest\\nOrganization: [via International Space University]\\nOriginal-Sender: isu@VACATION.VENARI.CS.CMU.EDU\\nDistribution: sci\\nLines: 12\\n\\nFrom: \"Phil G. Fraering\" <pgf@srl03.cacs.usl.edu>\\n> \\n> Finally: this isn\\'t the Bronze Age, [..]\\n> please try to remember that there are more human activities than\\n> those practiced by the Warrior Caste, the Farming Caste, and the\\n> Priesthood.\\n\\nRight, the Profiting Caste is blessed by God, and may \\n freely blare its presence in the evening twilight ..\\n\\n-- \\n* Fred Baube (tm)\\n'"
     },
     "execution_count": 5,
     "metadata": {},
     "output_type": "execute_result"
    }
   ],
   "source": [
    "from sklearn.datasets import fetch_20newsgroups\n",
    "categories = ['sci.med', 'sci.space']\n",
    "twenty_sci_news = fetch_20newsgroups(categories=categories)\n",
    "twenty_sci_news.data[0]"
   ],
   "metadata": {
    "collapsed": false,
    "ExecuteTime": {
     "end_time": "2024-01-04T03:26:09.818686800Z",
     "start_time": "2024-01-04T03:24:43.389758600Z"
    }
   },
   "id": "b3bca9201b0bb8c"
  },
  {
   "cell_type": "code",
   "execution_count": 6,
   "outputs": [
    {
     "data": {
      "text/plain": "array(['C:\\\\Users\\\\wambua\\\\scikit_learn_data\\\\20news_home\\\\20news-bydate-train\\\\sci.space\\\\61116',\n       'C:\\\\Users\\\\wambua\\\\scikit_learn_data\\\\20news_home\\\\20news-bydate-train\\\\sci.med\\\\58122',\n       'C:\\\\Users\\\\wambua\\\\scikit_learn_data\\\\20news_home\\\\20news-bydate-train\\\\sci.med\\\\58903',\n       ...,\n       'C:\\\\Users\\\\wambua\\\\scikit_learn_data\\\\20news_home\\\\20news-bydate-train\\\\sci.space\\\\60774',\n       'C:\\\\Users\\\\wambua\\\\scikit_learn_data\\\\20news_home\\\\20news-bydate-train\\\\sci.space\\\\60954',\n       'C:\\\\Users\\\\wambua\\\\scikit_learn_data\\\\20news_home\\\\20news-bydate-train\\\\sci.med\\\\58911'],\n      dtype='<U96')"
     },
     "execution_count": 6,
     "metadata": {},
     "output_type": "execute_result"
    }
   ],
   "source": [
    "twenty_sci_news.filenames"
   ],
   "metadata": {
    "collapsed": false,
    "ExecuteTime": {
     "end_time": "2024-01-04T03:28:33.132014600Z",
     "start_time": "2024-01-04T03:28:33.104726200Z"
    }
   },
   "id": "4c383a085a698150"
  },
  {
   "cell_type": "code",
   "execution_count": null,
   "outputs": [],
   "source": [],
   "metadata": {
    "collapsed": false
   },
   "id": "fdd40597d092bb07"
  }
 ],
 "metadata": {
  "kernelspec": {
   "display_name": "Python 3",
   "language": "python",
   "name": "python3"
  },
  "language_info": {
   "codemirror_mode": {
    "name": "ipython",
    "version": 2
   },
   "file_extension": ".py",
   "mimetype": "text/x-python",
   "name": "python",
   "nbconvert_exporter": "python",
   "pygments_lexer": "ipython2",
   "version": "2.7.6"
  }
 },
 "nbformat": 4,
 "nbformat_minor": 5
}
